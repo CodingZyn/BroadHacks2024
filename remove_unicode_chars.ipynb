{
 "cells": [
  {
   "cell_type": "code",
   "execution_count": 9,
   "metadata": {},
   "outputs": [],
   "source": [
    "from unicodedata import normalize\n",
    "\n",
    "for input_file in [\"posts.tsv\", \"users.tsv\"]:\n",
    "    with open(input_file, 'r') as f:\n",
    "        lines = f.readlines()\n",
    "        out_lines = [normalize('NFKD', line).encode('ascii','ignore') for line in lines]\n",
    "\n",
    "    with open(input_file, 'w') as f:\n",
    "        f.writelines([line.decode('utf-8') for line in out_lines])"
   ]
  }
 ],
 "metadata": {
  "kernelspec": {
   "display_name": "venv",
   "language": "python",
   "name": "python3"
  },
  "language_info": {
   "codemirror_mode": {
    "name": "ipython",
    "version": 3
   },
   "file_extension": ".py",
   "mimetype": "text/x-python",
   "name": "python",
   "nbconvert_exporter": "python",
   "pygments_lexer": "ipython3",
   "version": "3.9.1"
  }
 },
 "nbformat": 4,
 "nbformat_minor": 2
}
