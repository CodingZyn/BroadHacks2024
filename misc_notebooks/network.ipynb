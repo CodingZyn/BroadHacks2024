{
 "cells": [
  {
   "cell_type": "code",
   "execution_count": 1,
   "metadata": {},
   "outputs": [],
   "source": [
    "import pandas as pd\n",
    "import networkx\n",
    "import pyvis\n",
    "\n",
    "df = pd.read_csv('posts.tsv', sep='\\t')\n",
    "df = df.drop_duplicates(subset=['Title', 'Description'])"
   ]
  },
  {
   "cell_type": "code",
   "execution_count": 2,
   "metadata": {},
   "outputs": [],
   "source": [
    "import spacy\n",
    "\n",
    "# create word list from posts\n",
    "nlp = spacy.load('en_core_web_sm')\n",
    "words = []\n",
    "for i, row in enumerate(df):\n",
    "    words.append([])\n",
    "    doc = nlp(row[\"Description\"])\n",
    "    for token in doc:\n",
    "        if token.is_alpha:\n",
    "            words[-1].append(token.text.lower())"
   ]
  },
  {
   "cell_type": "code",
   "execution_count": 3,
   "metadata": {},
   "outputs": [
    {
     "name": "stderr",
     "output_type": "stream",
     "text": [
      "2024-06-28 11:00:57,285 : INFO : collecting all words and their counts\n",
      "2024-06-28 11:00:57,285 : INFO : PROGRESS: at example #0, processed 0 words (0 words/s), 0 word types, 0 tags\n",
      "2024-06-28 11:00:57,295 : INFO : collected 8320 word types and 217 unique tags from a corpus of 217 examples and 95455 words\n",
      "2024-06-28 11:00:57,296 : INFO : Creating a fresh vocabulary\n",
      "2024-06-28 11:00:57,311 : INFO : Doc2Vec lifecycle event {'msg': 'effective_min_count=1 retains 8320 unique words (100.00% of original 8320, drops 0)', 'datetime': '2024-06-28T11:00:57.311287', 'gensim': '4.3.2', 'python': '3.9.1 (v3.9.1:1e5d33e9b9, Dec  7 2020, 12:44:01) \\n[Clang 12.0.0 (clang-1200.0.32.27)]', 'platform': 'macOS-14.5-arm64-arm-64bit', 'event': 'prepare_vocab'}\n",
      "2024-06-28 11:00:57,311 : INFO : Doc2Vec lifecycle event {'msg': 'effective_min_count=1 leaves 95455 word corpus (100.00% of original 95455, drops 0)', 'datetime': '2024-06-28T11:00:57.311963', 'gensim': '4.3.2', 'python': '3.9.1 (v3.9.1:1e5d33e9b9, Dec  7 2020, 12:44:01) \\n[Clang 12.0.0 (clang-1200.0.32.27)]', 'platform': 'macOS-14.5-arm64-arm-64bit', 'event': 'prepare_vocab'}\n",
      "2024-06-28 11:00:57,331 : INFO : deleting the raw counts dictionary of 8320 items\n",
      "2024-06-28 11:00:57,332 : INFO : sample=0.001 downsamples 45 most-common words\n",
      "2024-06-28 11:00:57,332 : INFO : Doc2Vec lifecycle event {'msg': 'downsampling leaves estimated 75419.54258663103 word corpus (79.0%% of prior 95455)', 'datetime': '2024-06-28T11:00:57.332560', 'gensim': '4.3.2', 'python': '3.9.1 (v3.9.1:1e5d33e9b9, Dec  7 2020, 12:44:01) \\n[Clang 12.0.0 (clang-1200.0.32.27)]', 'platform': 'macOS-14.5-arm64-arm-64bit', 'event': 'prepare_vocab'}\n",
      "2024-06-28 11:00:57,362 : INFO : estimated required memory for 8320 words and 5 dimensions: 4540540 bytes\n",
      "2024-06-28 11:00:57,362 : INFO : resetting layer weights\n",
      "2024-06-28 11:00:57,363 : INFO : Doc2Vec lifecycle event {'msg': 'training model with 4 workers on 8320 vocabulary and 5 features, using sg=0 hs=0 sample=0.001 negative=5 window=2 shrink_windows=True', 'datetime': '2024-06-28T11:00:57.363873', 'gensim': '4.3.2', 'python': '3.9.1 (v3.9.1:1e5d33e9b9, Dec  7 2020, 12:44:01) \\n[Clang 12.0.0 (clang-1200.0.32.27)]', 'platform': 'macOS-14.5-arm64-arm-64bit', 'event': 'train'}\n",
      "2024-06-28 11:00:57,399 : INFO : EPOCH 0: training on 95455 raw words (75556 effective words) took 0.0s, 2277158 effective words/s\n",
      "2024-06-28 11:00:57,431 : INFO : EPOCH 1: training on 95455 raw words (75731 effective words) took 0.0s, 2477298 effective words/s\n",
      "2024-06-28 11:00:57,463 : INFO : EPOCH 2: training on 95455 raw words (75646 effective words) took 0.0s, 2484977 effective words/s\n",
      "2024-06-28 11:00:57,496 : INFO : EPOCH 3: training on 95455 raw words (75683 effective words) took 0.0s, 2372970 effective words/s\n",
      "2024-06-28 11:00:57,528 : INFO : EPOCH 4: training on 95455 raw words (75653 effective words) took 0.0s, 2501453 effective words/s\n",
      "2024-06-28 11:00:57,558 : INFO : EPOCH 5: training on 95455 raw words (75630 effective words) took 0.0s, 2662884 effective words/s\n",
      "2024-06-28 11:00:57,587 : INFO : EPOCH 6: training on 95455 raw words (75578 effective words) took 0.0s, 2700565 effective words/s\n",
      "2024-06-28 11:00:57,621 : INFO : EPOCH 7: training on 95455 raw words (75550 effective words) took 0.0s, 2334092 effective words/s\n",
      "2024-06-28 11:00:57,652 : INFO : EPOCH 8: training on 95455 raw words (75655 effective words) took 0.0s, 2579587 effective words/s\n",
      "2024-06-28 11:00:57,682 : INFO : EPOCH 9: training on 95455 raw words (75554 effective words) took 0.0s, 2630989 effective words/s\n",
      "2024-06-28 11:00:57,683 : INFO : Doc2Vec lifecycle event {'msg': 'training on 954550 raw words (756236 effective words) took 0.3s, 2369998 effective words/s', 'datetime': '2024-06-28T11:00:57.683227', 'gensim': '4.3.2', 'python': '3.9.1 (v3.9.1:1e5d33e9b9, Dec  7 2020, 12:44:01) \\n[Clang 12.0.0 (clang-1200.0.32.27)]', 'platform': 'macOS-14.5-arm64-arm-64bit', 'event': 'train'}\n",
      "2024-06-28 11:00:57,683 : INFO : Doc2Vec lifecycle event {'params': 'Doc2Vec<dm/m,d5,n5,w2,s0.001,t4>', 'datetime': '2024-06-28T11:00:57.683646', 'gensim': '4.3.2', 'python': '3.9.1 (v3.9.1:1e5d33e9b9, Dec  7 2020, 12:44:01) \\n[Clang 12.0.0 (clang-1200.0.32.27)]', 'platform': 'macOS-14.5-arm64-arm-64bit', 'event': 'created'}\n"
     ]
    }
   ],
   "source": [
    "import logging\n",
    "logging.basicConfig(format='%(asctime)s : %(levelname)s : %(message)s', level=logging.INFO)\n",
    "\n",
    "\n",
    "from gensim.models.doc2vec import Doc2Vec, TaggedDocument\n",
    "\n",
    "documents = [TaggedDocument(doc, [i]) for i, doc in enumerate(words)]\n",
    "model = Doc2Vec(documents, vector_size=5, window=2, min_count=1, workers=4)"
   ]
  },
  {
   "cell_type": "code",
   "execution_count": 7,
   "metadata": {},
   "outputs": [
    {
     "data": {
      "application/vnd.plotly.v1+json": {
       "config": {
        "plotlyServerURL": "https://plot.ly"
       },
       "data": [
        {
         "hovertemplate": "<b>%{hovertext}</b><br><br>x=%{x}<br>y=%{y}<br>color=%{marker.color}<extra></extra>",
         "hovertext": [
          "1000 Genomes Project",
          "American Gut Project",
          "Jump Cell Painting",
          "Cancer Cell Line Encyclopedia (CCLE)",
          "Ras-dependent activation of BMAL2 regulates hypoxic metabolism in pancreatic cancer",
          "Therapeutic targeting of ACLY in T-ALL in vivo",
          "Novel diagnosis- and progression-related microRNA signatures in melanoma",
          "Disruption of P2Y2 signaling promotes breast tumor cell dissemination by reducing ATP-dependent calcium elevation and actin localization to cell junctions",
          "A novel Nav1.5-dependent feedback mechanism driving glycolytic acidification in breast cancer metastasis",
          "Deep Visual Proteomics Unveils Precision Medicine Insights in Composite Small Lymphocytic and Classical Hodgkin Lymphoma",
          "KDM2B is required for ribosome biogenesis and its depletion unequally affects mRNA translation",
          "The Universal Breast cancer Subtyping 93 finds that claudin-low breast cancer may originate from basal breast cancer.",
          "An organoid co-culture model for probing systemic anti-tumor immunity in lung cancer",
          "Comprehensive single cell transcriptomics analysis of murine osteosarcoma uncovers Skp2 function in metastasis, genomic instability and immune activation and reveals additional target pathways",
          "Up-regulated transcriptional regulators in mutant RAS gene signatures: a time-resolved multi-omics study in generic epithelial cell models",
          "Mechanical compressive forces increase PI3K output signaling in breast and pancreatic cancer cells",
          "WITHDRAWN: Dual targeting of mitochondrial Lon peptidase 1 and chymotrypsin-like protease by small molecule BT317, as potential therapeutics in malignant astrocytoma",
          "WITHDRAWN: LonP1 Drives Proneural Mesenchymal Transition in IDH1-R132H Diffuse Glioma",
          "KRAS-mediated upregulation of CIP2A promotes suppression of PP2A-B56α to initiate pancreatic cancer development",
          "The Hidden Potential of PDE4 Inhibitor Rolipram: A Multifaceted Examination of its Inhibition of MMP2/9 Reveals Therapeutic Implications",
          "Biological activity of a stable 6-aryl-2-benzoyl-pyridine colchicine-binding site inhibitor, 60c, in metastatic, triple-negative breast cancer",
          "Spatial Profiling of Metals through Matrix-Assisted Laser Desorption Ionization Mass Spectrometry Imaging",
          "Super-Enhancer Driven ZFP36L1 Promotes PD-L1 Expression in Infiltrative Gastric Cancer",
          "Development of fluoro-7-aminocarboxycoumarin-based mitochondrial pyruvate carrier inhibitors as anticancer agents",
          "Green Jackfruit Flour Prevents Metabolic Dysfunction-Associated Steatohepatitis and Progression to Hepatocellular Carcinoma via the AMPK and MAPK Signaling Pathways",
          "Therapeutic potential of SOX9 dysruption in Combined Hepatocellular Carcinoma-Cholangiocarcinoma",
          "Ellagic acid: a potential inhibitor of enhancer of zeste homolog-2 and protein arginine methyltransferase-5",
          "Phosphodiesterase 1A physically interacts with YTHDF2 and reinforces the progression of non-small cell lung cancer",
          "Targeting PRMT3 Impairs Methylation and Oligomerization of HSP60 to Boost Anti-Tumor Immunity by Activating cGAS/STING Signaling",
          "Loss of p21-activated kinase 4 (PAK4) suppresses pancreatic tumor progression and metastasis through regulating E-cadherin",
          "Mathematical Modeling Unveils Optimization Strategies for Targeted Radionuclide Therapy of Blood Cancers",
          "Transposable Elements Shape Stemness in Normal and Leukemic Hematopoiesis",
          "Enhancer plasticity in endometrial tumorigenesis demarcates non-coding somatic mutations and 3D-genome alterations boosting the oncogenic driver ESR1",
          "CDC42 Inhibitors Alter Patterns of Vessel Arborization in Skin and Tumors in vivo",
          "Constitutive Photomorphogenesis Protein 1 homolog (COP1) sustains nuclear factor-4 alpha function in human hepatocyte models",
          "RGS10 deficiency facilitates distant metastasis by inducing epithelial-mesenchymal transition in breast cancer",
          "In vitro efficacy and in vivo toxicity and retention of targeted nanoformulated carboplatin in a sustained release carrier for treatment of osteosarcoma",
          "Targeting SCD triggers lipotoxicity of cancer cells and enhances anti-tumor immunity in breast cancer brain metastasis mouse models",
          "Lipid availability influences ferroptosis sensitivity in cancer cells by regulating polyunsaturated fatty acid trafficking",
          "Unveiling Novel Double-Negative Prostate Cancer Subtypes Through Single-Cell RNA Sequencing Analysis",
          "Decoil: Reconstructing extrachromosomal DNA structural heterogeneity from long-read sequencing data",
          "PTBP2 promotes cell survival and autophagy in Chronic Myeloid Leukemia by stabilizing BNIP3",
          "Aberrant cytoplasmic localization of MLH1 characterizes a sub-clonal breast cancer cell population that seeds recurrence",
          "Magnetic particle imaging reveals that iron-labeled extracellular vesicles accumulate in brains of mice with metastases",
          "Transcriptional remodeling of the Stromal and Endothelial Microenvironment in MGUS to Multiple Myeloma Progression",
          "Disruption of Circadian Clock Induces Abnormal Mammary Morphology and Aggressive Basal Tumorigenesis by Enhancing LILRB4 Signaling",
          "Peristromal niches protect lung cancers from targeted therapies through a combined effect of multiple molecular mediators",
          "The invasion phenotypes of glioblastoma depend on plastic and reprogrammable cell states",
          "An imbalance between proliferation and differentiation underlies the development of microRNA-defective pineoblastoma",
          "Transcriptional Characterization of the Stromal and Endothelial Bone Marrow Microenvironment during Progression from MGUS to Multiple Myeloma",
          "Nonlinear progression across the occult transition establishes cancer lethality",
          "An Alternatively Spliced Gain-of-Function NT5C2 Isoform Contributes to Thiopurine Resistance in Acute Lymphoblastic Leukemia",
          "KSR1 regulates small-cell lung carcinoma tumor initiation and therapy resistance",
          "The neuroendocrine transition in prostate cancer is dynamic and dependent on ASCL1",
          "Establishing the foundations for a data-centric AI approach for virtual drug screening through a systematic assessment of the properties of chemical data",
          "Vesicle-mediated mitochondrial clearance underlies an actionable metabolic vulnerability in triple-negative breast cancer",
          "Onco-Circuit Addiction and Onco-Nutrient mTORC1 Signaling Vulnerability in a Model of Aggressive T Cell Malignancy",
          "Small extracellular vesicles promote stiffness-mediated metastasis",
          "Tumor-infiltrating nerves functionally alter brain circuits and modulate behavior in a male mouse model of head-and-neck cancer",
          "Multiplexed 3D Analysis of Immune States and Niches in Human Tissue",
          "Three-dimensional assessments are necessary to determine the true, spatially-resolved composition of tissues",
          "Spatial Effects of Infiltrating T cells on Neighbouring Cancer Cells and Prognosis in Stage III CRC patients",
          "Effect of C-to-T transition at CpG sites on tumor suppressor genes in tumor development in cattle evaluated by somatic mutation analysis in enzootic bovine leukosis",
          "Stochastic variation in the FOXM1 transcription program mediates replication stress tolerance.",
          "Fatty acids are not a significant contributor to the TCA cycle in cancer cell lines: evidence of incomplete fatty acid oxidation.",
          "Stable and Oscillatory Hypoxia Differentially Regulate Invasibility of Breast Cancer Associated Fibroblasts",
          "Advancing CAR T-Cell Therapy: Simultaneously Attack Tumor and Immunosuppressive Cells in the Tumor Microenvironment",
          "ANP32E drives vulnerability to ATR inhibitors by inducing R-loops-dependent Transcription Replication Conflicts in Triple Negative Breast Cancer",
          "Mutational synergy with CREBBP loss in lymphomagenesis identified through forward insertional mutagenesis in a new DLBCL mouse model",
          "HNF&alpha is a target of the Wnt/beta-catenin pathway and regulates colorectal carcinogenesis",
          "A 3D in vitro assay to study combined immune cell infiltration and cytotoxicity",
          "The lipid droplet protein DHRS3 is a regulator of melanoma cell state",
          "NPRL2 gene therapy induces effective antitumor immunity in KRAS/STK11 mutant anti-PD1 resistant metastatic non-small cell lung cancer (NSCLC) in a humanized mouse model",
          "Dual-view jointly learning improves personalized drug synergy prediction",
          "Identifying and targeting key driver genes for collagen production within the 11q13/14 breast cancer amplicon",
          "PTEN and ARID1A haploinsufficiency equip colonic epithelium for oncogenic transformation",
          "A Novel Liver Cancer-Selective Histone Deacetylase Inhibitor Is Effective Against Hepatocellular Carcinoma and Induces Durable Responses with Immunotherapy",
          "Hypercholesterolemia-induced impairment in sorafenib functionality is overcome by avasimibe co-treatment",
          "Novel synthetic ecteinascidins exhibit potent anti-melanoma activity by suppressing super-enhancer-driven oncogenic transcription",
          "YTHDC1 m6A-dependent and m6A-independent functions converge to preserve DNA damage response.",
          "Androgen deprivation therapy-resistant club cells are linked to myeloid cell-driven immunosuppression in the prostate tumor microenvironment",
          "CPT1A Mediates Radiation Sensitivity in Colorectal Cancer",
          "MAP4 kinase-regulated reduced CLSTN1 expression in medulloblastoma is associated with increased invasiveness",
          "Cancer-Associated Hypercalcemia Signals Through the Hindbrain to cause Anorexia",
          "Systematic annotation of orphan RNAs reveals blood-accessible molecular barcodes of cancer identity and cancer-emergent oncogenic drivers",
          "Illuminating the Dark Cancer Phosphoproteome Through a Machine-Learned Co-Regulation Map of 26,280 Phosphosites",
          "CDK12 Loss Promotes Prostate Cancer Development While Exposing Vulnerabilities to Paralog-Based Synthetic Lethality",
          "Consequences of platelet-educated cancer cells on the expression of inflammatory and metastatic glycoproteins.",
          "Targeting Diffuse Midline Glioma with a novel anti-CD99 Antibody",
          "BET inhibition induces GDH1-dependent glutamine metabolic remodeling and vulnerability in liver cancer",
          "UDP-6-glucose dehydrogenase in hormonally responsive breast cancers",
          "How clinically relevant are prostate cancer cell lines? A comprehensive characterisation and multiomics comparison.",
          "Ether lipids influence cancer cell fate by modulating iron uptake",
          "Single-cell profiling reveals the intratumor heterogeneity and immunosuppressive microenvironment in cervical adenocarcinoma",
          "CDK4 and CDK6 upregulation promotes DNA replication stress, genomic instability and resistance to EGFR targeted therapy in lung cancer",
          "Proteomic Analysis Reveals Trilaciclib-Induced Senescence",
          "Assessing Long-Term Stored Tissues for Multi-Omics Data Quality and Proteogenomics Suitability",
          "Deciphering molecular mechanisms of synergistic growth reduction in kinase inhibitor combinations",
          "A therapy candidate for fatal prion diseases turns off disease-causing gene",
          "Simple test for flu could improve diagnosis and surveillance",
          "Gut microbiome changes align with increased risk of type 2 diabetes",
          "#WhyIScience Q&A: A biochemist uses mass spectrometry to find proteins involved in cancer",
          "Improved prime editing system makes gene-sized edits in human cells at therapeutic levels",
          "Q&A: How to jump-start new psychiatric and neurological drug development",
          "Q&A: New approaches are needed to find better cancer drug targets",
          "Researchers engineer in vivo delivery system for prime editing, partially restoring vision in mice",
          "Evolved prime editors are smaller and more efficient for therapeutic applications",
          "Researchers reprogram gene therapy viral vectors to bind specific protein targets",
          "Base editing treats spinal muscular atrophy in mice",
          "Bacterial injection system delivers proteins in mice and human cells",
          "Survey of brain cell junctions shows striking similarities between schizophrenia and bipolar disorder",
          "Schizophrenia gene mutation causes many changes in the mouse brain  ",
          "Two large studies reveal genes and genome regions that influence schizophrenia risk",
          "Researchers find first strong genetic risk factor for bipolar disorder",
          "First large genetic study of bipolar disorder in Asian populations launches",
          "Study reveals how some bacterial infections become chronic",
          "Battling antibiotic resistance in the lab and the clinic",
          "Several pre-existing RSV lineages powered the 2022 surge",
          "Injectable agents could improve liquid biopsy for cancer detection and monitoring",
          "Cancer immunotherapy candidate provokes powerful dual response in cancer and immune cells",
          "A research team searches for every gene that helps tumors evade immunotherapy",
          "Lung cancer’s molecular features shed light on immunotherapy response",
          "Scientists use genetics to dig into a tumor’s past",
          "How chromosome imbalances can drive cancer",
          "Three studies highlight how proteins are altered in multiple cancer types",
          "Some CRISPR screens may be missing cancer drug targets",
          "New gene delivery vehicle shows promise for human brain gene therapy",
          "Merkin Prize in Biomedical Technology awarded to F. William Studier for development of widely used protein- and RNA-production platform",
          "Calico and Broad Institute extend collaboration, adding focus on age-related neurodegeneration",
          "#WhyIScience Q&A: How a computational biologist balances work with life as an elite rower",
          "Scientists work out the effects of exercise at the cellular level",
          "A new viral surveillance system in West Africa is showing the world how to prevent the next pandemic",
          "Scientists uncover 95 regions of the genome linked to PTSD",
          "Scientists link certain gut bacteria to lower heart disease risk",
          "Ancient DNA reveals possible origin of a racial/ethnic disparity in a childhood cancer",
          "#WhyIScience Q&A: A cell biologist now helps recent college graduates launch their scientific careers",
          "Messenger RNAs with multiple “tails” could lead to more effective therapeutics",
          "Spatial study of lung cancer reveals immune markers of response to immunotherapy",
          "Researchers roll out a more accurate way to estimate genetic risks of disease",
          "Scientists generate new targeted protein degradation system that tunes a cell’s own proteins",
          "Study reveals genetic clusters that may explain differences in type 2 diabetes risk",
          "A close research partnership with African scientists helps solve the mystery of malaria-like illnesses",
          "Schizophrenia and aging may share a common biological basis",
          "Global survey of gut microbes uncovers 18 new bacterial species and clues to antibiotic resistance",
          "#WhyIScience Q&A: A software engineer develops computational tools for psychiatric and brain research",
          "Count Me In Launches Osteosarcoma Project in Spanish / Count Me In Lanza el Osteosarcoma Project en español",
          "Genetic risk prediction for 10 chronic diseases moves closer to the clinic",
          "Largest and most diverse genome-wide association study of type 2 diabetes reveals new genetic factors",
          "Study finds youth-onset diabetes is a genetically distinct form of the disorder",
          "Researchers uncover genetic factors for severe Lassa fever",
          "Study reveals links between blood vessel biology and heart disease risk",
          "With retinal images and genetic data, researchers predict cardiovascular, metabolic, and other disease risks",
          "Terra is now generally available on Microsoft Azure",
          "With AI, researchers identify a new class of antibiotic candidates",
          "New method tags cells with location coordinates for single-cell studies",
          "Scientists map the locations of hundreds to thousands of cell types across a mammalian brain ",
          "Approach studies how rare gene variant pairs contribute to disease",
          "Using 76,000 genomes, researchers build new map of regions of the human genome under natural selection",
          "New “dictionary” of immune responses reveals far more complexity in the immune system than previously thought",
          "Count Me In patient-partnered research launches new project for Pediatric Hepatocellular Carcinoma (Pedi-HCC) and HCC-like tumors",
          "Search algorithm reveals nearly 200 new kinds of CRISPR systems",
          "A new method for prenatal genetic testing relies on just a blood draw",
          "Fairness, listening, and learning: A conversation with Broad’s chief equity officer",
          "#WhyIScience Q&A: A computational biologist uses physics to find hidden patterns in cells",
          "Gerstner Center for Cancer Diagnostics receives additional commitment from Louis V. Gerstner, Jr., to advance technologies that could transform cancer care",
          "Cellular atlas built to guide precision treatment of rheumatoid arthritis",
          "Q&A: How generative AI could help accelerate biomedical research",
          "Bayer and Broad Institute extend cancer therapy research collaboration",
          "New patient-partnered research project will study heart disease and diabetes risk in South Asian populations ",
          "#WhyIScience Q&A: A research scientist uses mass spectrometry to discover how metabolites affect human health",
          "Marvin Caruthers receives inaugural Merkin Prize in ceremony at the Broad Institute for DNA synthesis technology",
          "Q&A: Broad’s newly renamed clinical lab marks a turning point for the institute’s Genomics Platform",
          "Broad Clinical Labs established to expand clinical services",
          "Scientists reveal cellular changes unique to early Alzheimer’s disease",
          "Broad Institute welcomes Kedrick Perry as new Chief Equity Officer",
          "New machine learning techniques boost predictions for virtual drug screening with less data",
          "New research alliance with Novo Nordisk to identify therapeutic targets for type 2 diabetes and cardiometabolic diseases",
          "#WhyIScience Q&A: A computational biologist helps build datasets for genetic disease diagnosis",
          "Nuclear DNA influences variation in mitochondrial DNA",
          "A surprising new role for a major immune regulator",
          "A look back at the first year of NeuroDev",
          "A how-to for performing quantitative bioimaging ",
          "A scientist devotes her career to tackling inequity in genomics",
          "More diverse datasets lead to better genetic risk prediction for heart disease ",
          "New image-based cellular profiling tool peers deeply into metabolic biology",
          "Scientists pinpoint where thousands of individual proteins are made in intact tissue and single cells",
          "Inaugural Merkin Prize in Biomedical Technology awarded to Dr. Marvin Caruthers for developing technology that efficiently synthesizes DNA",
          "Researchers uncover new CRISPR-like system in animals that can edit the human genome",
          "#WhyIScience Q&A: How a summer at Broad helped foster a love of research for a young scientist",
          "Low oxygen levels restore balance and coordination in a mouse model of a movement disorder",
          "Researchers identify gut microbiome signatures linked to precancerous colon polyps",
          "UV radiation plays role in development of rare leukemia in the skin",
          "Multi-ancestry study reveals genetic risk factors for two common pregnancy complications",
          "Artificial intelligence system predicts consequences of disruptions to genetic networks",
          "#WhyIScience Q&A: A process development lead returns to her research roots",
          "Study finds how a genetic variant raises diabetes risk through an unexpected mechanism",
          "Alumni of the Broad’s summer research programs discuss the personal and professional impact of their time at Broad",
          "Broad’s summer research programs for high school and college students have helped shape the careers of more than 300 young scientists",
          "Cells can use uridine, a component of RNA, as a source of energy",
          "Viruses in the guts of centenarians may help them resist pathogens",
          "How one lab uses machine learning to solve a key gene therapy problem",
          "Hybrid protein language models for fitness prediction and design",
          "Unsupervised viral antibody escape prediction for future-proof vaccines",
          "Accurate proteome-wide missense variant effect prediction with Alpha Missens",
          "Alpha Missens",
          "Testing data-driven hypotheses post-clustering",
          "Data thinning to avoid double dipping",
          "SPLASH unifies genomic analysis and discovery through a paradigm shift to statistics-first",
          "Statistical and algorithmic challenges in reference-free analysis",
          "Single-cell models for state-dependent eQTL analysis",
          "Scalable single-cell models for robust cell-state-dependent eQTL mapping",
          "Protein language models learn evolutionary statistics of interacting sequence motifs",
          "Combining protein language and structure models to redesign E. coli proteome with a reduced amino acid alphabet",
          "Protein Design with Deep Learning: Progress, Challenges, and Next Steps",
          "Unlocking Generative AI for Drug Discovery with Zero-shot Models",
          "Multimodal protein language models for deciphering protein function",
          "Geometric deep learning and generative models for protein target discovery"
         ],
         "legendgroup": "",
         "marker": {
          "color": [
           42,
           55,
           82,
           103,
           1534,
           1308,
           1546,
           1491,
           1530,
           1120,
           1254,
           5584,
           1500,
           1945,
           1900,
           1324,
           265,
           265,
           1619,
           1680,
           1760,
           1101,
           1734,
           1586,
           1807,
           2103,
           1752,
           1844,
           1633,
           1717,
           2078,
           1579,
           1199,
           1622,
           1603,
           1019,
           1619,
           1694,
           1126,
           1570,
           1294,
           1271,
           2232,
           1926,
           2262,
           1713,
           1733,
           1123,
           1311,
           2262,
           1574,
           1547,
           2062,
           1710,
           2808,
           1258,
           1089,
           1587,
           1480,
           2015,
           1679,
           1987,
           2395,
           1262,
           1545,
           1620,
           1521,
           1074,
           1240,
           1303,
           2213,
           1104,
           3127,
           1843,
           1595,
           1641,
           1608,
           1788,
           1677,
           1183,
           1157,
           1717,
           1585,
           1033,
           1455,
           1297,
           1665,
           1076,
           1423,
           1186,
           1354,
           1504,
           1246,
           1489,
           1276,
           1696,
           2168,
           1730,
           10395,
           4072,
           6047,
           7254,
           5341,
           8140,
           6644,
           5490,
           7822,
           1983,
           7235,
           4346,
           60,
           6696,
           13562,
           6478,
           8728,
           5105,
           4705,
           4296,
           4584,
           796,
           1406,
           5471,
           15,
           6340,
           6993,
           5517,
           6838,
           1622,
           1761,
           2368,
           7211,
           1064,
           6155,
           5977,
           3992,
           1572,
           5089,
           4197,
           408,
           6036,
           3812,
           678,
           5506,
           5402,
           990,
           5455,
           4696,
           434,
           1311,
           7069,
           5358,
           5151,
           4785,
           7390,
           2510,
           5319,
           3058,
           3605,
           6068,
           3275,
           6417,
           6110,
           7422,
           6234,
           5119,
           4774,
           9674,
           2387,
           5683,
           5252,
           8959,
           5386,
           3104,
           5566,
           4943,
           7141,
           4166,
           5674,
           7320,
           6979,
           526,
           684,
           1049,
           5342,
           2825,
           4737,
           1497,
           2368,
           2468,
           6067,
           14,
           15,
           4758,
           16,
           6171,
           20,
           1018,
           2556,
           4431,
           3843,
           1194,
           1015,
           1335,
           893,
           893,
           1159,
           1279,
           1235,
           1088,
           966,
           1137,
           839,
           1631,
           850,
           471,
           1544,
           1607
          ],
          "coloraxis": "coloraxis",
          "symbol": "circle"
         },
         "mode": "markers",
         "name": "",
         "orientation": "v",
         "showlegend": false,
         "textposition": "top center",
         "type": "scatter",
         "x": [
          -8.28136920928955,
          -9.577897071838379,
          -8.40286636352539,
          -9.193425178527832,
          -5.868054389953613,
          -9.560281753540039,
          -1.590299129486084,
          -8.791563987731934,
          -8.439709663391113,
          -8.060834884643555,
          -7.438521862030029,
          -0.3130148947238922,
          -8.810263633728027,
          -4.4215497970581055,
          -4.485385417938232,
          -8.893903732299805,
          -8.168951034545898,
          -8.634801864624023,
          -7.259481906890869,
          -2.204690933227539,
          -2.1588141918182373,
          -5.315176963806152,
          -4.0085883140563965,
          -3.6171557903289795,
          -1.4411184787750244,
          -1.605535626411438,
          -5.202759742736816,
          -7.227136611938477,
          -7.201277256011963,
          -8.688421249389648,
          -1.4217647314071655,
          -4.982415676116943,
          -7.496588230133057,
          -4.150017738342285,
          -6.843643665313721,
          -10.181307792663574,
          -2.943361759185791,
          -3.4634320735931396,
          -6.379610538482666,
          -8.1229248046875,
          -4.869761943817139,
          -9.560561180114746,
          -2.2897894382476807,
          -3.0576369762420654,
          -1.4934314489364624,
          -6.5149688720703125,
          -4.359548568725586,
          -9.459145545959473,
          -5.727544784545898,
          -1.5571240186691284,
          -7.522710800170898,
          -4.698708534240723,
          -2.4412686824798584,
          -5.765569686889648,
          6.798611640930176,
          -10.269755363464355,
          -8.182056427001953,
          -7.881545543670654,
          -5.728732585906982,
          -4.23326301574707,
          -0.8523905277252197,
          -5.334356784820557,
          -0.5904915928840637,
          -8.971109390258789,
          -1.5041375160217285,
          -3.6761460304260254,
          -1.4372179508209229,
          -8.774070739746094,
          -6.417039394378662,
          -9.168787956237793,
          -1.2585452795028687,
          -8.904972076416016,
          -0.39435163140296936,
          -1.454041600227356,
          -4.819348335266113,
          -1.9239635467529297,
          -7.696366310119629,
          -11.070282936096191,
          -5.116582870483398,
          -10.369507789611816,
          -9.631937980651855,
          -5.605630397796631,
          -8.083040237426758,
          -8.216022491455078,
          -6.055732250213623,
          -6.565745830535889,
          -6.808987617492676,
          -8.949978828430176,
          -8.96313762664795,
          -7.463849067687988,
          -9.627579689025879,
          -3.5107169151306152,
          -5.3616132736206055,
          -5.601229190826416,
          -6.640466690063477,
          -6.863831043243408,
          1.8000258207321167,
          -6.046807289123535,
          6.092430591583252,
          9.586719512939453,
          9.003449440002441,
          14.449211120605469,
          4.457489490509033,
          12.70473861694336,
          13.577533721923828,
          4.217740535736084,
          4.019869804382324,
          -2.084996223449707,
          4.291720867156982,
          4.479953765869141,
          -8.834047317504883,
          4.681697368621826,
          13.10064697265625,
          11.183594703674316,
          12.05103588104248,
          5.512694358825684,
          11.20535659790039,
          9.542542457580566,
          4.574630260467529,
          -8.609885215759277,
          10.168717384338379,
          2.5901944637298584,
          -9.03514289855957,
          7.213827610015869,
          9.612844467163086,
          8.551755905151367,
          5.311520099639893,
          9.868697166442871,
          10.07004451751709,
          10.61331844329834,
          7.683201313018799,
          10.532649993896484,
          8.330740928649902,
          9.679384231567383,
          5.767127513885498,
          10.421704292297363,
          4.463400363922119,
          1.56466543674469,
          -8.025009155273438,
          4.684787273406982,
          5.805150508880615,
          -6.797837257385254,
          7.603509426116943,
          9.316033363342285,
          11.400311470031738,
          4.776806354522705,
          12.223190307617188,
          -8.251775741577148,
          -5.865677833557129,
          11.630498886108398,
          7.226887226104736,
          8.032364845275879,
          9.779060363769531,
          7.315380096435547,
          4.7565765380859375,
          7.486270427703857,
          5.817850589752197,
          5.55290412902832,
          8.620440483093262,
          11.356851577758789,
          7.041441440582275,
          7.045929431915283,
          15.54546070098877,
          14.46869945526123,
          11.222220420837402,
          3.084076404571533,
          13.909834861755371,
          9.814203262329102,
          12.111873626708984,
          14.44091796875,
          10.566155433654785,
          13.2063627243042,
          10.103784561157227,
          8.798192977905273,
          10.882720947265625,
          13.555429458618164,
          10.508295059204102,
          14.181726455688477,
          5.189586639404297,
          6.57573938369751,
          -7.725079536437988,
          -6.807117938995361,
          10.753178596496582,
          12.035063743591309,
          2.447296380996704,
          3.226641893386841,
          10.064507484436035,
          4.486897945404053,
          12.00048828125,
          4.7385454177856445,
          -9.514933586120605,
          -9.476327896118164,
          6.98067569732666,
          -8.956398010253906,
          14.828012466430664,
          -8.527583122253418,
          10.90838623046875,
          10.674588203430176,
          6.56687068939209,
          8.72295093536377,
          -2.809056043624878,
          -5.867221832275391,
          -5.018759727478027,
          -7.374780654907227,
          -7.2855730056762695,
          -5.61442756652832,
          -4.190693378448486,
          -4.507864952087402,
          -4.8949761390686035,
          -8.441875457763672,
          -8.039437294006348,
          -6.305964946746826,
          0.48453786969184875,
          -6.934178829193115,
          -7.772164344787598,
          -1.0758353471755981,
          -4.765933036804199
         ],
         "xaxis": "x",
         "y": [
          15.206512451171875,
          14.766818046569824,
          14.848180770874023,
          14.400699615478516,
          4.08815860748291,
          2.2734599113464355,
          -4.075371742248535,
          -0.23561787605285645,
          -1.7967196702957153,
          5.846919059753418,
          5.9977498054504395,
          0.5772969722747803,
          3.6921184062957764,
          -0.5523644089698792,
          -0.7323830723762512,
          -0.43652671575546265,
          13.89670181274414,
          13.717533111572266,
          2.204525947570801,
          -2.7041444778442383,
          -0.9143703579902649,
          7.527309417724609,
          -0.6985465884208679,
          -2.6426451206207275,
          -1.0827993154525757,
          0.08222890645265579,
          -1.4533213376998901,
          -2.5775928497314453,
          0.5063233375549316,
          2.1371498107910156,
          -1.375596046447754,
          -2.947519540786743,
          6.410149097442627,
          0.8865408897399902,
          2.0634493827819824,
          7.070749282836914,
          -1.1033164262771606,
          0.2211819440126419,
          4.118163108825684,
          4.484556674957275,
          6.4679694175720215,
          2.8005475997924805,
          0.20605918765068054,
          1.9289822578430176,
          1.0325106382369995,
          -3.8171515464782715,
          1.054175615310669,
          5.962076663970947,
          2.9388203620910645,
          1.1401803493499756,
          5.096597194671631,
          -3.0806026458740234,
          0.8713954091072083,
          0.20589756965637207,
          -4.774054050445557,
          4.486355781555176,
          3.577118396759033,
          -1.5263540744781494,
          -0.10235165804624557,
          -4.0008978843688965,
          -3.7853291034698486,
          -4.081328392028809,
          -0.8475698828697205,
          0.6666815280914307,
          -2.988830327987671,
          2.7574074268341064,
          2.513908624649048,
          3.3298699855804443,
          3.9838857650756836,
          8.660462379455566,
          2.349179744720459,
          4.053947925567627,
          2.211965799331665,
          -5.155478477478027,
          4.644511699676514,
          -3.615271806716919,
          0.43985864520072937,
          3.7916810512542725,
          -0.4112486243247986,
          2.8720571994781494,
          0.5687517523765564,
          -0.4932402968406677,
          0.10311442613601685,
          1.7904897928237915,
          2.5843474864959717,
          6.96301794052124,
          -2.2648277282714844,
          7.610535144805908,
          1.9823799133300781,
          3.200681447982788,
          -2.074716567993164,
          -3.107579469680786,
          2.946441888809204,
          -2.752242088317871,
          8.207021713256836,
          -1.817186951637268,
          -6.2998433113098145,
          2.3697195053100586,
          0.6370071768760681,
          -7.4293084144592285,
          -7.587510108947754,
          -10.354519844055176,
          0.4181617200374603,
          -7.5359039306640625,
          -6.661713600158691,
          1.2920366525650024,
          1.4441258907318115,
          6.597201347351074,
          1.2961490154266357,
          -0.8393679857254028,
          14.694777488708496,
          -1.8893392086029053,
          -11.345888137817383,
          -8.937664985656738,
          -11.932815551757812,
          -8.2820463180542,
          -10.275338172912598,
          -8.196892738342285,
          -2.447847604751587,
          9.320596694946289,
          -0.206792950630188,
          -4.215875625610352,
          15.721258163452148,
          -5.568285942077637,
          -9.230547904968262,
          -8.950935363769531,
          1.0591858625411987,
          -1.9537087678909302,
          -1.4960966110229492,
          -8.371298789978027,
          -8.939048767089844,
          -0.8805102109909058,
          -9.179387092590332,
          -7.975338459014893,
          -6.897511959075928,
          -3.216454267501831,
          -2.663710117340088,
          -4.081335067749023,
          12.892252922058105,
          -1.0966709852218628,
          -8.361078262329102,
          10.906968116760254,
          -7.546975135803223,
          -10.296964645385742,
          -0.35207992792129517,
          2.155562400817871,
          -8.76228141784668,
          13.371342658996582,
          7.4186224937438965,
          -9.551173210144043,
          -6.05814790725708,
          -8.125761985778809,
          -11.08897590637207,
          -4.39718770980835,
          -7.027619361877441,
          -1.6193419694900513,
          -6.73758602142334,
          -4.983487606048584,
          -4.806695461273193,
          -5.356329917907715,
          -3.7491378784179688,
          -8.742864608764648,
          -9.982246398925781,
          -9.476086616516113,
          -5.596850872039795,
          -6.944178581237793,
          -6.796976089477539,
          -2.797170877456665,
          -10.695446014404297,
          -9.194059371948242,
          -10.78335189819336,
          -9.881265640258789,
          -6.9102301597595215,
          -6.62091064453125,
          -11.454925537109375,
          -9.03691291809082,
          -7.186513423919678,
          -9.672768592834473,
          -4.217879772186279,
          -3.1708245277404785,
          12.19465160369873,
          11.526156425476074,
          -1.0860086679458618,
          -8.616754531860352,
          -6.416674613952637,
          -4.2469072341918945,
          -2.1731667518615723,
          -2.9070985317230225,
          -9.862126350402832,
          0.2972685694694519,
          15.006723403930664,
          15.490814208984375,
          -7.067878723144531,
          15.270648002624512,
          -10.080195426940918,
          15.567179679870605,
          -0.3612772226333618,
          -9.554353713989258,
          -4.660211563110352,
          -7.177613735198975,
          7.15716552734375,
          9.451162338256836,
          6.083516597747803,
          9.747751235961914,
          10.07578182220459,
          8.35356616973877,
          8.550849914550781,
          8.082693099975586,
          8.97768783569336,
          8.400247573852539,
          6.336848735809326,
          9.811202049255371,
          -3.6885979175567627,
          10.30200481414795,
          12.469873428344727,
          -4.9486470222473145,
          -1.7683483362197876
         ],
         "yaxis": "y"
        }
       ],
       "layout": {
        "coloraxis": {
         "colorbar": {
          "title": {
           "text": "color"
          }
         },
         "colorscale": [
          [
           0,
           "#0d0887"
          ],
          [
           0.1111111111111111,
           "#46039f"
          ],
          [
           0.2222222222222222,
           "#7201a8"
          ],
          [
           0.3333333333333333,
           "#9c179e"
          ],
          [
           0.4444444444444444,
           "#bd3786"
          ],
          [
           0.5555555555555556,
           "#d8576b"
          ],
          [
           0.6666666666666666,
           "#ed7953"
          ],
          [
           0.7777777777777778,
           "#fb9f3a"
          ],
          [
           0.8888888888888888,
           "#fdca26"
          ],
          [
           1,
           "#f0f921"
          ]
         ]
        },
        "legend": {
         "tracegroupgap": 0
        },
        "margin": {
         "t": 60
        },
        "template": {
         "data": {
          "bar": [
           {
            "error_x": {
             "color": "#2a3f5f"
            },
            "error_y": {
             "color": "#2a3f5f"
            },
            "marker": {
             "line": {
              "color": "#E5ECF6",
              "width": 0.5
             },
             "pattern": {
              "fillmode": "overlay",
              "size": 10,
              "solidity": 0.2
             }
            },
            "type": "bar"
           }
          ],
          "barpolar": [
           {
            "marker": {
             "line": {
              "color": "#E5ECF6",
              "width": 0.5
             },
             "pattern": {
              "fillmode": "overlay",
              "size": 10,
              "solidity": 0.2
             }
            },
            "type": "barpolar"
           }
          ],
          "carpet": [
           {
            "aaxis": {
             "endlinecolor": "#2a3f5f",
             "gridcolor": "white",
             "linecolor": "white",
             "minorgridcolor": "white",
             "startlinecolor": "#2a3f5f"
            },
            "baxis": {
             "endlinecolor": "#2a3f5f",
             "gridcolor": "white",
             "linecolor": "white",
             "minorgridcolor": "white",
             "startlinecolor": "#2a3f5f"
            },
            "type": "carpet"
           }
          ],
          "choropleth": [
           {
            "colorbar": {
             "outlinewidth": 0,
             "ticks": ""
            },
            "type": "choropleth"
           }
          ],
          "contour": [
           {
            "colorbar": {
             "outlinewidth": 0,
             "ticks": ""
            },
            "colorscale": [
             [
              0,
              "#0d0887"
             ],
             [
              0.1111111111111111,
              "#46039f"
             ],
             [
              0.2222222222222222,
              "#7201a8"
             ],
             [
              0.3333333333333333,
              "#9c179e"
             ],
             [
              0.4444444444444444,
              "#bd3786"
             ],
             [
              0.5555555555555556,
              "#d8576b"
             ],
             [
              0.6666666666666666,
              "#ed7953"
             ],
             [
              0.7777777777777778,
              "#fb9f3a"
             ],
             [
              0.8888888888888888,
              "#fdca26"
             ],
             [
              1,
              "#f0f921"
             ]
            ],
            "type": "contour"
           }
          ],
          "contourcarpet": [
           {
            "colorbar": {
             "outlinewidth": 0,
             "ticks": ""
            },
            "type": "contourcarpet"
           }
          ],
          "heatmap": [
           {
            "colorbar": {
             "outlinewidth": 0,
             "ticks": ""
            },
            "colorscale": [
             [
              0,
              "#0d0887"
             ],
             [
              0.1111111111111111,
              "#46039f"
             ],
             [
              0.2222222222222222,
              "#7201a8"
             ],
             [
              0.3333333333333333,
              "#9c179e"
             ],
             [
              0.4444444444444444,
              "#bd3786"
             ],
             [
              0.5555555555555556,
              "#d8576b"
             ],
             [
              0.6666666666666666,
              "#ed7953"
             ],
             [
              0.7777777777777778,
              "#fb9f3a"
             ],
             [
              0.8888888888888888,
              "#fdca26"
             ],
             [
              1,
              "#f0f921"
             ]
            ],
            "type": "heatmap"
           }
          ],
          "heatmapgl": [
           {
            "colorbar": {
             "outlinewidth": 0,
             "ticks": ""
            },
            "colorscale": [
             [
              0,
              "#0d0887"
             ],
             [
              0.1111111111111111,
              "#46039f"
             ],
             [
              0.2222222222222222,
              "#7201a8"
             ],
             [
              0.3333333333333333,
              "#9c179e"
             ],
             [
              0.4444444444444444,
              "#bd3786"
             ],
             [
              0.5555555555555556,
              "#d8576b"
             ],
             [
              0.6666666666666666,
              "#ed7953"
             ],
             [
              0.7777777777777778,
              "#fb9f3a"
             ],
             [
              0.8888888888888888,
              "#fdca26"
             ],
             [
              1,
              "#f0f921"
             ]
            ],
            "type": "heatmapgl"
           }
          ],
          "histogram": [
           {
            "marker": {
             "pattern": {
              "fillmode": "overlay",
              "size": 10,
              "solidity": 0.2
             }
            },
            "type": "histogram"
           }
          ],
          "histogram2d": [
           {
            "colorbar": {
             "outlinewidth": 0,
             "ticks": ""
            },
            "colorscale": [
             [
              0,
              "#0d0887"
             ],
             [
              0.1111111111111111,
              "#46039f"
             ],
             [
              0.2222222222222222,
              "#7201a8"
             ],
             [
              0.3333333333333333,
              "#9c179e"
             ],
             [
              0.4444444444444444,
              "#bd3786"
             ],
             [
              0.5555555555555556,
              "#d8576b"
             ],
             [
              0.6666666666666666,
              "#ed7953"
             ],
             [
              0.7777777777777778,
              "#fb9f3a"
             ],
             [
              0.8888888888888888,
              "#fdca26"
             ],
             [
              1,
              "#f0f921"
             ]
            ],
            "type": "histogram2d"
           }
          ],
          "histogram2dcontour": [
           {
            "colorbar": {
             "outlinewidth": 0,
             "ticks": ""
            },
            "colorscale": [
             [
              0,
              "#0d0887"
             ],
             [
              0.1111111111111111,
              "#46039f"
             ],
             [
              0.2222222222222222,
              "#7201a8"
             ],
             [
              0.3333333333333333,
              "#9c179e"
             ],
             [
              0.4444444444444444,
              "#bd3786"
             ],
             [
              0.5555555555555556,
              "#d8576b"
             ],
             [
              0.6666666666666666,
              "#ed7953"
             ],
             [
              0.7777777777777778,
              "#fb9f3a"
             ],
             [
              0.8888888888888888,
              "#fdca26"
             ],
             [
              1,
              "#f0f921"
             ]
            ],
            "type": "histogram2dcontour"
           }
          ],
          "mesh3d": [
           {
            "colorbar": {
             "outlinewidth": 0,
             "ticks": ""
            },
            "type": "mesh3d"
           }
          ],
          "parcoords": [
           {
            "line": {
             "colorbar": {
              "outlinewidth": 0,
              "ticks": ""
             }
            },
            "type": "parcoords"
           }
          ],
          "pie": [
           {
            "automargin": true,
            "type": "pie"
           }
          ],
          "scatter": [
           {
            "fillpattern": {
             "fillmode": "overlay",
             "size": 10,
             "solidity": 0.2
            },
            "type": "scatter"
           }
          ],
          "scatter3d": [
           {
            "line": {
             "colorbar": {
              "outlinewidth": 0,
              "ticks": ""
             }
            },
            "marker": {
             "colorbar": {
              "outlinewidth": 0,
              "ticks": ""
             }
            },
            "type": "scatter3d"
           }
          ],
          "scattercarpet": [
           {
            "marker": {
             "colorbar": {
              "outlinewidth": 0,
              "ticks": ""
             }
            },
            "type": "scattercarpet"
           }
          ],
          "scattergeo": [
           {
            "marker": {
             "colorbar": {
              "outlinewidth": 0,
              "ticks": ""
             }
            },
            "type": "scattergeo"
           }
          ],
          "scattergl": [
           {
            "marker": {
             "colorbar": {
              "outlinewidth": 0,
              "ticks": ""
             }
            },
            "type": "scattergl"
           }
          ],
          "scattermapbox": [
           {
            "marker": {
             "colorbar": {
              "outlinewidth": 0,
              "ticks": ""
             }
            },
            "type": "scattermapbox"
           }
          ],
          "scatterpolar": [
           {
            "marker": {
             "colorbar": {
              "outlinewidth": 0,
              "ticks": ""
             }
            },
            "type": "scatterpolar"
           }
          ],
          "scatterpolargl": [
           {
            "marker": {
             "colorbar": {
              "outlinewidth": 0,
              "ticks": ""
             }
            },
            "type": "scatterpolargl"
           }
          ],
          "scatterternary": [
           {
            "marker": {
             "colorbar": {
              "outlinewidth": 0,
              "ticks": ""
             }
            },
            "type": "scatterternary"
           }
          ],
          "surface": [
           {
            "colorbar": {
             "outlinewidth": 0,
             "ticks": ""
            },
            "colorscale": [
             [
              0,
              "#0d0887"
             ],
             [
              0.1111111111111111,
              "#46039f"
             ],
             [
              0.2222222222222222,
              "#7201a8"
             ],
             [
              0.3333333333333333,
              "#9c179e"
             ],
             [
              0.4444444444444444,
              "#bd3786"
             ],
             [
              0.5555555555555556,
              "#d8576b"
             ],
             [
              0.6666666666666666,
              "#ed7953"
             ],
             [
              0.7777777777777778,
              "#fb9f3a"
             ],
             [
              0.8888888888888888,
              "#fdca26"
             ],
             [
              1,
              "#f0f921"
             ]
            ],
            "type": "surface"
           }
          ],
          "table": [
           {
            "cells": {
             "fill": {
              "color": "#EBF0F8"
             },
             "line": {
              "color": "white"
             }
            },
            "header": {
             "fill": {
              "color": "#C8D4E3"
             },
             "line": {
              "color": "white"
             }
            },
            "type": "table"
           }
          ]
         },
         "layout": {
          "annotationdefaults": {
           "arrowcolor": "#2a3f5f",
           "arrowhead": 0,
           "arrowwidth": 1
          },
          "autotypenumbers": "strict",
          "coloraxis": {
           "colorbar": {
            "outlinewidth": 0,
            "ticks": ""
           }
          },
          "colorscale": {
           "diverging": [
            [
             0,
             "#8e0152"
            ],
            [
             0.1,
             "#c51b7d"
            ],
            [
             0.2,
             "#de77ae"
            ],
            [
             0.3,
             "#f1b6da"
            ],
            [
             0.4,
             "#fde0ef"
            ],
            [
             0.5,
             "#f7f7f7"
            ],
            [
             0.6,
             "#e6f5d0"
            ],
            [
             0.7,
             "#b8e186"
            ],
            [
             0.8,
             "#7fbc41"
            ],
            [
             0.9,
             "#4d9221"
            ],
            [
             1,
             "#276419"
            ]
           ],
           "sequential": [
            [
             0,
             "#0d0887"
            ],
            [
             0.1111111111111111,
             "#46039f"
            ],
            [
             0.2222222222222222,
             "#7201a8"
            ],
            [
             0.3333333333333333,
             "#9c179e"
            ],
            [
             0.4444444444444444,
             "#bd3786"
            ],
            [
             0.5555555555555556,
             "#d8576b"
            ],
            [
             0.6666666666666666,
             "#ed7953"
            ],
            [
             0.7777777777777778,
             "#fb9f3a"
            ],
            [
             0.8888888888888888,
             "#fdca26"
            ],
            [
             1,
             "#f0f921"
            ]
           ],
           "sequentialminus": [
            [
             0,
             "#0d0887"
            ],
            [
             0.1111111111111111,
             "#46039f"
            ],
            [
             0.2222222222222222,
             "#7201a8"
            ],
            [
             0.3333333333333333,
             "#9c179e"
            ],
            [
             0.4444444444444444,
             "#bd3786"
            ],
            [
             0.5555555555555556,
             "#d8576b"
            ],
            [
             0.6666666666666666,
             "#ed7953"
            ],
            [
             0.7777777777777778,
             "#fb9f3a"
            ],
            [
             0.8888888888888888,
             "#fdca26"
            ],
            [
             1,
             "#f0f921"
            ]
           ]
          },
          "colorway": [
           "#636efa",
           "#EF553B",
           "#00cc96",
           "#ab63fa",
           "#FFA15A",
           "#19d3f3",
           "#FF6692",
           "#B6E880",
           "#FF97FF",
           "#FECB52"
          ],
          "font": {
           "color": "#2a3f5f"
          },
          "geo": {
           "bgcolor": "white",
           "lakecolor": "white",
           "landcolor": "#E5ECF6",
           "showlakes": true,
           "showland": true,
           "subunitcolor": "white"
          },
          "hoverlabel": {
           "align": "left"
          },
          "hovermode": "closest",
          "mapbox": {
           "style": "light"
          },
          "paper_bgcolor": "white",
          "plot_bgcolor": "#E5ECF6",
          "polar": {
           "angularaxis": {
            "gridcolor": "white",
            "linecolor": "white",
            "ticks": ""
           },
           "bgcolor": "#E5ECF6",
           "radialaxis": {
            "gridcolor": "white",
            "linecolor": "white",
            "ticks": ""
           }
          },
          "scene": {
           "xaxis": {
            "backgroundcolor": "#E5ECF6",
            "gridcolor": "white",
            "gridwidth": 2,
            "linecolor": "white",
            "showbackground": true,
            "ticks": "",
            "zerolinecolor": "white"
           },
           "yaxis": {
            "backgroundcolor": "#E5ECF6",
            "gridcolor": "white",
            "gridwidth": 2,
            "linecolor": "white",
            "showbackground": true,
            "ticks": "",
            "zerolinecolor": "white"
           },
           "zaxis": {
            "backgroundcolor": "#E5ECF6",
            "gridcolor": "white",
            "gridwidth": 2,
            "linecolor": "white",
            "showbackground": true,
            "ticks": "",
            "zerolinecolor": "white"
           }
          },
          "shapedefaults": {
           "line": {
            "color": "#2a3f5f"
           }
          },
          "ternary": {
           "aaxis": {
            "gridcolor": "white",
            "linecolor": "white",
            "ticks": ""
           },
           "baxis": {
            "gridcolor": "white",
            "linecolor": "white",
            "ticks": ""
           },
           "bgcolor": "#E5ECF6",
           "caxis": {
            "gridcolor": "white",
            "linecolor": "white",
            "ticks": ""
           }
          },
          "title": {
           "x": 0.05
          },
          "xaxis": {
           "automargin": true,
           "gridcolor": "white",
           "linecolor": "white",
           "ticks": "",
           "title": {
            "standoff": 15
           },
           "zerolinecolor": "white",
           "zerolinewidth": 2
          },
          "yaxis": {
           "automargin": true,
           "gridcolor": "white",
           "linecolor": "white",
           "ticks": "",
           "title": {
            "standoff": 15
           },
           "zerolinecolor": "white",
           "zerolinewidth": 2
          }
         }
        },
        "title": {
         "text": "t-SNE of the embeddings of the descriptions"
        },
        "xaxis": {
         "anchor": "y",
         "domain": [
          0,
          1
         ],
         "title": {
          "text": "x"
         }
        },
        "yaxis": {
         "anchor": "x",
         "domain": [
          0,
          1
         ],
         "title": {
          "text": "y"
         }
        }
       }
      }
     },
     "metadata": {},
     "output_type": "display_data"
    }
   ],
   "source": [
    "# plot the t-SNE of the embeddings of the descriptions\n",
    "import numpy as np\n",
    "from sklearn.manifold import TSNE\n",
    "import plotly.express as px\n",
    "\n",
    "X = np.array([model.infer_vector(words[i]) for i in range(len(words))])\n",
    "X_embedded = TSNE(n_components=2).fit_transform(X)\n",
    "\n",
    "df[\"desc_length\"] = df[\"Description\"].str.len()\n",
    "\n",
    "fig = px.scatter(x=X_embedded[:,0], y=X_embedded[:,1], hover_name=df['Title'], color=df['desc_length'])\n",
    "fig.update_traces(textposition='top center')\n",
    "fig.update_layout(title='t-SNE of the embeddings of the descriptions')\n",
    "fig.show()"
   ]
  }
 ],
 "metadata": {
  "kernelspec": {
   "display_name": "venv",
   "language": "python",
   "name": "python3"
  },
  "language_info": {
   "codemirror_mode": {
    "name": "ipython",
    "version": 3
   },
   "file_extension": ".py",
   "mimetype": "text/x-python",
   "name": "python",
   "nbconvert_exporter": "python",
   "pygments_lexer": "ipython3",
   "version": "3.9.1"
  }
 },
 "nbformat": 4,
 "nbformat_minor": 2
}
