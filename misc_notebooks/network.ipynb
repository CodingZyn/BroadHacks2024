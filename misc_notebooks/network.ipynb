{
 "cells": [
  {
   "cell_type": "code",
   "execution_count": 2,
   "metadata": {},
   "outputs": [],
   "source": [
    "import pandas as pd\n",
    "import networkx\n",
    "import pyvis\n",
    "\n",
    "df = pd.read_csv('../posts.tsv', sep='\\t')\n",
    "df = df.drop_duplicates(subset=['Title', 'Description'])"
   ]
  },
  {
   "cell_type": "code",
   "execution_count": 13,
   "metadata": {},
   "outputs": [],
   "source": [
    "import spacy\n",
    "\n",
    "# create word list from posts\n",
    "nlp = spacy.load('en_core_web_sm')\n",
    "words = []\n",
    "for i, row in df.iterrows():\n",
    "    words.append([])\n",
    "    # doc = nlp(row[\"Description\"])\n",
    "    # for token in doc:\n",
    "    #     if token.is_alpha:\n",
    "    #         words[-1].append(token.text.lower())\n",
    "    words[-1].extend(row[\"Keywords\"])"
   ]
  },
  {
   "cell_type": "code",
   "execution_count": 14,
   "metadata": {},
   "outputs": [
    {
     "name": "stderr",
     "output_type": "stream",
     "text": [
      "2024-06-28 12:41:31,781 : INFO : collecting all words and their counts\n",
      "2024-06-28 12:41:31,782 : INFO : PROGRESS: at example #0, processed 0 words (0 words/s), 0 word types, 0 tags\n",
      "2024-06-28 12:41:31,784 : INFO : collected 38 word types and 217 unique tags from a corpus of 217 examples and 20300 words\n",
      "2024-06-28 12:41:31,785 : INFO : Creating a fresh vocabulary\n",
      "2024-06-28 12:41:31,786 : INFO : Doc2Vec lifecycle event {'msg': 'effective_min_count=1 retains 38 unique words (100.00% of original 38, drops 0)', 'datetime': '2024-06-28T12:41:31.786041', 'gensim': '4.3.2', 'python': '3.9.1 (v3.9.1:1e5d33e9b9, Dec  7 2020, 12:44:01) \\n[Clang 12.0.0 (clang-1200.0.32.27)]', 'platform': 'macOS-14.5-arm64-arm-64bit', 'event': 'prepare_vocab'}\n",
      "2024-06-28 12:41:31,786 : INFO : Doc2Vec lifecycle event {'msg': 'effective_min_count=1 leaves 20300 word corpus (100.00% of original 20300, drops 0)', 'datetime': '2024-06-28T12:41:31.786415', 'gensim': '4.3.2', 'python': '3.9.1 (v3.9.1:1e5d33e9b9, Dec  7 2020, 12:44:01) \\n[Clang 12.0.0 (clang-1200.0.32.27)]', 'platform': 'macOS-14.5-arm64-arm-64bit', 'event': 'prepare_vocab'}\n",
      "2024-06-28 12:41:31,786 : INFO : deleting the raw counts dictionary of 38 items\n",
      "2024-06-28 12:41:31,787 : INFO : sample=0.001 downsamples 23 most-common words\n",
      "2024-06-28 12:41:31,788 : INFO : Doc2Vec lifecycle event {'msg': 'downsampling leaves estimated 3579.352659971735 word corpus (17.6%% of prior 20300)', 'datetime': '2024-06-28T12:41:31.788043', 'gensim': '4.3.2', 'python': '3.9.1 (v3.9.1:1e5d33e9b9, Dec  7 2020, 12:44:01) \\n[Clang 12.0.0 (clang-1200.0.32.27)]', 'platform': 'macOS-14.5-arm64-arm-64bit', 'event': 'prepare_vocab'}\n",
      "2024-06-28 12:41:31,788 : INFO : estimated required memory for 38 words and 5 dimensions: 68260 bytes\n",
      "2024-06-28 12:41:31,789 : INFO : resetting layer weights\n",
      "2024-06-28 12:41:31,789 : INFO : Doc2Vec lifecycle event {'msg': 'training model with 4 workers on 38 vocabulary and 5 features, using sg=0 hs=0 sample=0.001 negative=5 window=2 shrink_windows=True', 'datetime': '2024-06-28T12:41:31.789585', 'gensim': '4.3.2', 'python': '3.9.1 (v3.9.1:1e5d33e9b9, Dec  7 2020, 12:44:01) \\n[Clang 12.0.0 (clang-1200.0.32.27)]', 'platform': 'macOS-14.5-arm64-arm-64bit', 'event': 'train'}\n",
      "2024-06-28 12:41:31,802 : INFO : EPOCH 0: training on 20300 raw words (3819 effective words) took 0.0s, 331953 effective words/s\n",
      "2024-06-28 12:41:31,811 : INFO : EPOCH 1: training on 20300 raw words (3811 effective words) took 0.0s, 518927 effective words/s\n",
      "2024-06-28 12:41:31,819 : INFO : EPOCH 2: training on 20300 raw words (3814 effective words) took 0.0s, 620377 effective words/s\n",
      "2024-06-28 12:41:31,827 : INFO : EPOCH 3: training on 20300 raw words (3860 effective words) took 0.0s, 620949 effective words/s\n",
      "2024-06-28 12:41:31,834 : INFO : EPOCH 4: training on 20300 raw words (3857 effective words) took 0.0s, 608432 effective words/s\n",
      "2024-06-28 12:41:31,842 : INFO : EPOCH 5: training on 20300 raw words (3787 effective words) took 0.0s, 615931 effective words/s\n",
      "2024-06-28 12:41:31,849 : INFO : EPOCH 6: training on 20300 raw words (3835 effective words) took 0.0s, 605025 effective words/s\n",
      "2024-06-28 12:41:31,857 : INFO : EPOCH 7: training on 20300 raw words (3811 effective words) took 0.0s, 614013 effective words/s\n",
      "2024-06-28 12:41:31,864 : INFO : EPOCH 8: training on 20300 raw words (3805 effective words) took 0.0s, 599504 effective words/s\n",
      "2024-06-28 12:41:31,872 : INFO : EPOCH 9: training on 20300 raw words (3856 effective words) took 0.0s, 615618 effective words/s\n",
      "2024-06-28 12:41:31,872 : INFO : Doc2Vec lifecycle event {'msg': 'training on 203000 raw words (38255 effective words) took 0.1s, 462534 effective words/s', 'datetime': '2024-06-28T12:41:31.872624', 'gensim': '4.3.2', 'python': '3.9.1 (v3.9.1:1e5d33e9b9, Dec  7 2020, 12:44:01) \\n[Clang 12.0.0 (clang-1200.0.32.27)]', 'platform': 'macOS-14.5-arm64-arm-64bit', 'event': 'train'}\n",
      "2024-06-28 12:41:31,872 : INFO : Doc2Vec lifecycle event {'params': 'Doc2Vec<dm/m,d5,n5,w2,s0.001,t4>', 'datetime': '2024-06-28T12:41:31.872865', 'gensim': '4.3.2', 'python': '3.9.1 (v3.9.1:1e5d33e9b9, Dec  7 2020, 12:44:01) \\n[Clang 12.0.0 (clang-1200.0.32.27)]', 'platform': 'macOS-14.5-arm64-arm-64bit', 'event': 'created'}\n"
     ]
    }
   ],
   "source": [
    "import logging\n",
    "logging.basicConfig(format='%(asctime)s : %(levelname)s : %(message)s', level=logging.INFO)\n",
    "\n",
    "\n",
    "from gensim.models.doc2vec import Doc2Vec, TaggedDocument\n",
    "\n",
    "documents = [TaggedDocument(doc, [i]) for i, doc in enumerate(words)]\n",
    "model = Doc2Vec(documents, vector_size=5, window=2, min_count=1, workers=4)"
   ]
  },
  {
   "cell_type": "code",
   "execution_count": 15,
   "metadata": {},
   "outputs": [
    {
     "data": {
      "application/vnd.plotly.v1+json": {
       "config": {
        "plotlyServerURL": "https://plot.ly"
       },
       "data": [
        {
         "hovertemplate": "<b>%{hovertext}</b><br><br>x=%{x}<br>y=%{y}<br>color=%{marker.color}<extra></extra>",
         "hovertext": [
          "1000 Genomes Project",
          "American Gut Project",
          "Jump Cell Painting",
          "Cancer Cell Line Encyclopedia (CCLE)",
          "Ras-dependent activation of BMAL2 regulates hypoxic metabolism in pancreatic cancer",
          "Therapeutic targeting of ACLY in T-ALL in vivo",
          "Novel diagnosis- and progression-related microRNA signatures in melanoma",
          "Disruption of P2Y2 signaling promotes breast tumor cell dissemination by reducing ATP-dependent calcium elevation and actin localization to cell junctions",
          "A novel Nav1.5-dependent feedback mechanism driving glycolytic acidification in breast cancer metastasis",
          "Deep Visual Proteomics Unveils Precision Medicine Insights in Composite Small Lymphocytic and Classical Hodgkin Lymphoma",
          "KDM2B is required for ribosome biogenesis and its depletion unequally affects mRNA translation",
          "The Universal Breast cancer Subtyping 93 finds that claudin-low breast cancer may originate from basal breast cancer.",
          "An organoid co-culture model for probing systemic anti-tumor immunity in lung cancer",
          "Comprehensive single cell transcriptomics analysis of murine osteosarcoma uncovers Skp2 function in metastasis, genomic instability and immune activation and reveals additional target pathways",
          "Up-regulated transcriptional regulators in mutant RAS gene signatures: a time-resolved multi-omics study in generic epithelial cell models",
          "Mechanical compressive forces increase PI3K output signaling in breast and pancreatic cancer cells",
          "WITHDRAWN: Dual targeting of mitochondrial Lon peptidase 1 and chymotrypsin-like protease by small molecule BT317, as potential therapeutics in malignant astrocytoma",
          "WITHDRAWN: LonP1 Drives Proneural Mesenchymal Transition in IDH1-R132H Diffuse Glioma",
          "KRAS-mediated upregulation of CIP2A promotes suppression of PP2A-B56 to initiate pancreatic cancer development",
          "The Hidden Potential of PDE4 Inhibitor Rolipram: A Multifaceted Examination of its Inhibition of MMP2/9 Reveals Therapeutic Implications",
          "Biological activity of a stable 6-aryl-2-benzoyl-pyridine colchicine-binding site inhibitor, 60c, in metastatic, triple-negative breast cancer",
          "Spatial Profiling of Metals through Matrix-Assisted Laser Desorption Ionization Mass Spectrometry Imaging",
          "Super-Enhancer Driven ZFP36L1 Promotes PD-L1 Expression in Infiltrative Gastric Cancer",
          "Development of fluoro-7-aminocarboxycoumarin-based mitochondrial pyruvate carrier inhibitors as anticancer agents",
          "Green Jackfruit Flour Prevents Metabolic Dysfunction-Associated Steatohepatitis and Progression to Hepatocellular Carcinoma via the AMPK and MAPK Signaling Pathways",
          "Therapeutic potential of SOX9 dysruption in Combined Hepatocellular Carcinoma-Cholangiocarcinoma",
          "Ellagic acid: a potential inhibitor of enhancer of zeste homolog-2 and protein arginine methyltransferase-5",
          "Phosphodiesterase 1A physically interacts with YTHDF2 and reinforces the progression of non-small cell lung cancer",
          "Targeting PRMT3 Impairs Methylation and Oligomerization of HSP60 to Boost Anti-Tumor Immunity by Activating cGAS/STING Signaling",
          "Loss of p21-activated kinase 4 (PAK4) suppresses pancreatic tumor progression and metastasis through regulating E-cadherin",
          "Mathematical Modeling Unveils Optimization Strategies for Targeted Radionuclide Therapy of Blood Cancers",
          "Transposable Elements Shape Stemness in Normal and Leukemic Hematopoiesis",
          "Enhancer plasticity in endometrial tumorigenesis demarcates non-coding somatic mutations and 3D-genome alterations boosting the oncogenic driver ESR1",
          "CDC42 Inhibitors Alter Patterns of Vessel Arborization in Skin and Tumors in vivo",
          "Constitutive Photomorphogenesis Protein 1 homolog (COP1) sustains nuclear factor-4 alpha function in human hepatocyte models",
          "RGS10 deficiency facilitates distant metastasis by inducing epithelial-mesenchymal transition in breast cancer",
          "In vitro efficacy and in vivo toxicity and retention of targeted nanoformulated carboplatin in a sustained release carrier for treatment of osteosarcoma",
          "Targeting SCD triggers lipotoxicity of cancer cells and enhances anti-tumor immunity in breast cancer brain metastasis mouse models",
          "Lipid availability influences ferroptosis sensitivity in cancer cells by regulating polyunsaturated fatty acid trafficking",
          "Unveiling Novel Double-Negative Prostate Cancer Subtypes Through Single-Cell RNA Sequencing Analysis",
          "Decoil: Reconstructing extrachromosomal DNA structural heterogeneity from long-read sequencing data",
          "PTBP2 promotes cell survival and autophagy in Chronic Myeloid Leukemia by stabilizing BNIP3",
          "Aberrant cytoplasmic localization of MLH1 characterizes a sub-clonal breast cancer cell population that seeds recurrence",
          "Magnetic particle imaging reveals that iron-labeled extracellular vesicles accumulate in brains of mice with metastases",
          "Transcriptional remodeling of the Stromal and Endothelial Microenvironment in MGUS to Multiple Myeloma Progression",
          "Disruption of Circadian Clock Induces Abnormal Mammary Morphology and Aggressive Basal Tumorigenesis by Enhancing LILRB4 Signaling",
          "Peristromal niches protect lung cancers from targeted therapies through a combined effect of multiple molecular mediators",
          "The invasion phenotypes of glioblastoma depend on plastic and reprogrammable cell states",
          "An imbalance between proliferation and differentiation underlies the development of microRNA-defective pineoblastoma",
          "Transcriptional Characterization of the Stromal and Endothelial Bone Marrow Microenvironment during Progression from MGUS to Multiple Myeloma",
          "Nonlinear progression across the occult transition establishes cancer lethality",
          "An Alternatively Spliced Gain-of-Function NT5C2 Isoform Contributes to Thiopurine Resistance in Acute Lymphoblastic Leukemia",
          "KSR1 regulates small-cell lung carcinoma tumor initiation and therapy resistance",
          "The neuroendocrine transition in prostate cancer is dynamic and dependent on ASCL1",
          "Establishing the foundations for a data-centric AI approach for virtual drug screening through a systematic assessment of the properties of chemical data",
          "Vesicle-mediated mitochondrial clearance underlies an actionable metabolic vulnerability in triple-negative breast cancer",
          "Onco-Circuit Addiction and Onco-Nutrient mTORC1 Signaling Vulnerability in a Model of Aggressive T Cell Malignancy",
          "Small extracellular vesicles promote stiffness-mediated metastasis",
          "Tumor-infiltrating nerves functionally alter brain circuits and modulate behavior in a male mouse model of head-and-neck cancer",
          "Multiplexed 3D Analysis of Immune States and Niches in Human Tissue",
          "Three-dimensional assessments are necessary to determine the true, spatially-resolved composition of tissues",
          "Spatial Effects of Infiltrating T cells on Neighbouring Cancer Cells and Prognosis in Stage III CRC patients",
          "Effect of C-to-T transition at CpG sites on tumor suppressor genes in tumor development in cattle evaluated by somatic mutation analysis in enzootic bovine leukosis",
          "Stochastic variation in the FOXM1 transcription program mediates replication stress tolerance.",
          "Fatty acids are not a significant contributor to the TCA cycle in cancer cell lines: evidence of incomplete fatty acid oxidation.",
          "Stable and Oscillatory Hypoxia Differentially Regulate Invasibility of Breast Cancer Associated Fibroblasts",
          "Advancing CAR T-Cell Therapy: Simultaneously Attack Tumor and Immunosuppressive Cells in the Tumor Microenvironment",
          "ANP32E drives vulnerability to ATR inhibitors by inducing R-loops-dependent Transcription Replication Conflicts in Triple Negative Breast Cancer",
          "Mutational synergy with CREBBP loss in lymphomagenesis identified through forward insertional mutagenesis in a new DLBCL mouse model",
          "HNF&alpha is a target of the Wnt/beta-catenin pathway and regulates colorectal carcinogenesis",
          "A 3D in vitro assay to study combined immune cell infiltration and cytotoxicity",
          "The lipid droplet protein DHRS3 is a regulator of melanoma cell state",
          "NPRL2 gene therapy induces effective antitumor immunity in KRAS/STK11 mutant anti-PD1 resistant metastatic non-small cell lung cancer (NSCLC) in a humanized mouse model",
          "Dual-view jointly learning improves personalized drug synergy prediction",
          "Identifying and targeting key driver genes for collagen production within the 11q13/14 breast cancer amplicon",
          "PTEN and ARID1A haploinsufficiency equip colonic epithelium for oncogenic transformation",
          "A Novel Liver Cancer-Selective Histone Deacetylase Inhibitor Is Effective Against Hepatocellular Carcinoma and Induces Durable Responses with Immunotherapy",
          "Hypercholesterolemia-induced impairment in sorafenib functionality is overcome by avasimibe co-treatment",
          "Novel synthetic ecteinascidins exhibit potent anti-melanoma activity by suppressing super-enhancer-driven oncogenic transcription",
          "YTHDC1 m6A-dependent and m6A-independent functions converge to preserve DNA damage response.",
          "Androgen deprivation therapy-resistant club cells are linked to myeloid cell-driven immunosuppression in the prostate tumor microenvironment",
          "CPT1A Mediates Radiation Sensitivity in Colorectal Cancer",
          "MAP4 kinase-regulated reduced CLSTN1 expression in medulloblastoma is associated with increased invasiveness",
          "Cancer-Associated Hypercalcemia Signals Through the Hindbrain to cause Anorexia",
          "Systematic annotation of orphan RNAs reveals blood-accessible molecular barcodes of cancer identity and cancer-emergent oncogenic drivers",
          "Illuminating the Dark Cancer Phosphoproteome Through a Machine-Learned Co-Regulation Map of 26,280 Phosphosites",
          "CDK12 Loss Promotes Prostate Cancer Development While Exposing Vulnerabilities to Paralog-Based Synthetic Lethality",
          "Consequences of platelet-educated cancer cells on the expression of inflammatory and metastatic glycoproteins.",
          "Targeting Diffuse Midline Glioma with a novel anti-CD99 Antibody",
          "BET inhibition induces GDH1-dependent glutamine metabolic remodeling and vulnerability in liver cancer",
          "UDP-6-glucose dehydrogenase in hormonally responsive breast cancers",
          "How clinically relevant are prostate cancer cell lines? A comprehensive characterisation and multiomics comparison.",
          "Ether lipids influence cancer cell fate by modulating iron uptake",
          "Single-cell profiling reveals the intratumor heterogeneity and immunosuppressive microenvironment in cervical adenocarcinoma",
          "CDK4 and CDK6 upregulation promotes DNA replication stress, genomic instability and resistance to EGFR targeted therapy in lung cancer",
          "Proteomic Analysis Reveals Trilaciclib-Induced Senescence",
          "Assessing Long-Term Stored Tissues for Multi-Omics Data Quality and Proteogenomics Suitability",
          "Deciphering molecular mechanisms of synergistic growth reduction in kinase inhibitor combinations",
          "A therapy candidate for fatal prion diseases turns off disease-causing gene",
          "Simple test for flu could improve diagnosis and surveillance",
          "Gut microbiome changes align with increased risk of type 2 diabetes",
          "#WhyIScience Q&A: A biochemist uses mass spectrometry to find proteins involved in cancer",
          "Improved prime editing system makes gene-sized edits in human cells at therapeutic levels",
          "Q&A: How to jump-start new psychiatric and neurological drug development",
          "Q&A: New approaches are needed to find better cancer drug targets",
          "Researchers engineer in vivo delivery system for prime editing, partially restoring vision in mice",
          "Evolved prime editors are smaller and more efficient for therapeutic applications",
          "Researchers reprogram gene therapy viral vectors to bind specific protein targets",
          "Base editing treats spinal muscular atrophy in mice",
          "Bacterial injection system delivers proteins in mice and human cells",
          "Survey of brain cell junctions shows striking similarities between schizophrenia and bipolar disorder",
          "Schizophrenia gene mutation causes many changes in the mouse brain  ",
          "Two large studies reveal genes and genome regions that influence schizophrenia risk",
          "Researchers find first strong genetic risk factor for bipolar disorder",
          "First large genetic study of bipolar disorder in Asian populations launches",
          "Study reveals how some bacterial infections become chronic",
          "Battling antibiotic resistance in the lab and the clinic",
          "Several pre-existing RSV lineages powered the 2022 surge",
          "Injectable agents could improve liquid biopsy for cancer detection and monitoring",
          "Cancer immunotherapy candidate provokes powerful dual response in cancer and immune cells",
          "A research team searches for every gene that helps tumors evade immunotherapy",
          "Lung cancers molecular features shed light on immunotherapy response",
          "Scientists use genetics to dig into a tumors past",
          "How chromosome imbalances can drive cancer",
          "Three studies highlight how proteins are altered in multiple cancer types",
          "Some CRISPR screens may be missing cancer drug targets",
          "New gene delivery vehicle shows promise for human brain gene therapy",
          "Merkin Prize in Biomedical Technology awarded to F. William Studier for development of widely used protein- and RNA-production platform",
          "Calico and Broad Institute extend collaboration, adding focus on age-related neurodegeneration",
          "#WhyIScience Q&A: How a computational biologist balances work with life as an elite rower",
          "Scientists work out the effects of exercise at the cellular level",
          "A new viral surveillance system in West Africa is showing the world how to prevent the next pandemic",
          "Scientists uncover 95 regions of the genome linked to PTSD",
          "Scientists link certain gut bacteria to lower heart disease risk",
          "Ancient DNA reveals possible origin of a racial/ethnic disparity in a childhood cancer",
          "#WhyIScience Q&A: A cell biologist now helps recent college graduates launch their scientific careers",
          "Messenger RNAs with multiple tails could lead to more effective therapeutics",
          "Spatial study of lung cancer reveals immune markers of response to immunotherapy",
          "Researchers roll out a more accurate way to estimate genetic risks of disease",
          "Scientists generate new targeted protein degradation system that tunes a cells own proteins",
          "Study reveals genetic clusters that may explain differences in type 2 diabetes risk",
          "A close research partnership with African scientists helps solve the mystery of malaria-like illnesses",
          "Schizophrenia and aging may share a common biological basis",
          "Global survey of gut microbes uncovers 18 new bacterial species and clues to antibiotic resistance",
          "#WhyIScience Q&A: A software engineer develops computational tools for psychiatric and brain research",
          "Count Me In Launches Osteosarcoma Project in Spanish / Count Me In Lanza el Osteosarcoma Project en espanol",
          "Genetic risk prediction for 10 chronic diseases moves closer to the clinic",
          "Largest and most diverse genome-wide association study of type 2 diabetes reveals new genetic factors",
          "Study finds youth-onset diabetes is a genetically distinct form of the disorder",
          "Researchers uncover genetic factors for severe Lassa fever",
          "Study reveals links between blood vessel biology and heart disease risk",
          "With retinal images and genetic data, researchers predict cardiovascular, metabolic, and other disease risks",
          "Terra is now generally available on Microsoft Azure",
          "With AI, researchers identify a new class of antibiotic candidates",
          "New method tags cells with location coordinates for single-cell studies",
          "Scientists map the locations of hundreds to thousands of cell types across a mammalian brain ",
          "Approach studies how rare gene variant pairs contribute to disease",
          "Using 76,000 genomes, researchers build new map of regions of the human genome under natural selection",
          "New dictionary of immune responses reveals far more complexity in the immune system than previously thought",
          "Count Me In patient-partnered research launches new project for Pediatric Hepatocellular Carcinoma (Pedi-HCC) and HCC-like tumors",
          "Search algorithm reveals nearly 200 new kinds of CRISPR systems",
          "A new method for prenatal genetic testing relies on just a blood draw",
          "Fairness, listening, and learning: A conversation with Broads chief equity officer",
          "#WhyIScience Q&A: A computational biologist uses physics to find hidden patterns in cells",
          "Gerstner Center for Cancer Diagnostics receives additional commitment from Louis V. Gerstner, Jr., to advance technologies that could transform cancer care",
          "Cellular atlas built to guide precision treatment of rheumatoid arthritis",
          "Q&A: How generative AI could help accelerate biomedical research",
          "Bayer and Broad Institute extend cancer therapy research collaboration",
          "New patient-partnered research project will study heart disease and diabetes risk in South Asian populations ",
          "#WhyIScience Q&A: A research scientist uses mass spectrometry to discover how metabolites affect human health",
          "Marvin Caruthers receives inaugural Merkin Prize in ceremony at the Broad Institute for DNA synthesis technology",
          "Q&A: Broads newly renamed clinical lab marks a turning point for the institutes Genomics Platform",
          "Broad Clinical Labs established to expand clinical services",
          "Scientists reveal cellular changes unique to early Alzheimers disease",
          "Broad Institute welcomes Kedrick Perry as new Chief Equity Officer",
          "New machine learning techniques boost predictions for virtual drug screening with less data",
          "New research alliance with Novo Nordisk to identify therapeutic targets for type 2 diabetes and cardiometabolic diseases",
          "#WhyIScience Q&A: A computational biologist helps build datasets for genetic disease diagnosis",
          "Nuclear DNA influences variation in mitochondrial DNA",
          "A surprising new role for a major immune regulator",
          "A look back at the first year of NeuroDev",
          "A how-to for performing quantitative bioimaging ",
          "A scientist devotes her career to tackling inequity in genomics",
          "More diverse datasets lead to better genetic risk prediction for heart disease ",
          "New image-based cellular profiling tool peers deeply into metabolic biology",
          "Scientists pinpoint where thousands of individual proteins are made in intact tissue and single cells",
          "Inaugural Merkin Prize in Biomedical Technology awarded to Dr. Marvin Caruthers for developing technology that efficiently synthesizes DNA",
          "Researchers uncover new CRISPR-like system in animals that can edit the human genome",
          "#WhyIScience Q&A: How a summer at Broad helped foster a love of research for a young scientist",
          "Low oxygen levels restore balance and coordination in a mouse model of a movement disorder",
          "Researchers identify gut microbiome signatures linked to precancerous colon polyps",
          "UV radiation plays role in development of rare leukemia in the skin",
          "Multi-ancestry study reveals genetic risk factors for two common pregnancy complications",
          "Artificial intelligence system predicts consequences of disruptions to genetic networks",
          "#WhyIScience Q&A: A process development lead returns to her research roots",
          "Study finds how a genetic variant raises diabetes risk through an unexpected mechanism",
          "Alumni of the Broads summer research programs discuss the personal and professional impact of their time at Broad",
          "Broads summer research programs for high school and college students have helped shape the careers of more than 300 young scientists",
          "Cells can use uridine, a component of RNA, as a source of energy",
          "Viruses in the guts of centenarians may help them resist pathogens",
          "How one lab uses machine learning to solve a key gene therapy problem",
          "Hybrid protein language models for fitness prediction and design",
          "Unsupervised viral antibody escape prediction for future-proof vaccines",
          "Accurate proteome-wide missense variant effect prediction with Alpha Missens",
          "Alpha Missens",
          "Testing data-driven hypotheses post-clustering",
          "Data thinning to avoid double dipping",
          "SPLASH unifies genomic analysis and discovery through a paradigm shift to statistics-first",
          "Statistical and algorithmic challenges in reference-free analysis",
          "Single-cell models for state-dependent eQTL analysis",
          "Scalable single-cell models for robust cell-state-dependent eQTL mapping",
          "Protein language models learn evolutionary statistics of interacting sequence motifs",
          "Combining protein language and structure models to redesign E. coli proteome with a reduced amino acid alphabet",
          "Protein Design with Deep Learning: Progress, Challenges, and Next Steps",
          "Unlocking Generative AI for Drug Discovery with Zero-shot Models",
          "Multimodal protein language models for deciphering protein function",
          "Geometric deep learning and generative models for protein target discovery"
         ],
         "legendgroup": "",
         "marker": {
          "color": [
           42,
           55,
           82,
           103,
           1534,
           1308,
           1546,
           1491,
           1530,
           1120,
           1254,
           5584,
           1500,
           1945,
           1900,
           1324,
           265,
           265,
           1619,
           1680,
           1760,
           1101,
           1734,
           1586,
           1807,
           2103,
           1752,
           1844,
           1633,
           1717,
           2078,
           1579,
           1199,
           1622,
           1603,
           1019,
           1619,
           1694,
           1126,
           1570,
           1294,
           1271,
           2232,
           1926,
           2262,
           1713,
           1733,
           1123,
           1311,
           2262,
           1574,
           1547,
           2062,
           1710,
           2808,
           1258,
           1089,
           1587,
           1480,
           2015,
           1679,
           1987,
           2395,
           1262,
           1545,
           1620,
           1521,
           1074,
           1240,
           1303,
           2213,
           1104,
           3127,
           1843,
           1595,
           1641,
           1608,
           1788,
           1677,
           1183,
           1157,
           1717,
           1585,
           1033,
           1455,
           1297,
           1665,
           1076,
           1423,
           1186,
           1354,
           1504,
           1246,
           1489,
           1276,
           1696,
           2168,
           1730,
           10352,
           4053,
           6026,
           7233,
           5316,
           8130,
           6623,
           5466,
           7784,
           1972,
           7210,
           4329,
           60,
           6668,
           13547,
           6457,
           8691,
           5079,
           4680,
           4279,
           4556,
           795,
           1399,
           5446,
           15,
           6314,
           6962,
           5485,
           6809,
           1613,
           1752,
           2354,
           7175,
           1058,
           6134,
           5958,
           3991,
           1569,
           5058,
           4188,
           407,
           6011,
           3798,
           675,
           5484,
           5382,
           987,
           5453,
           4670,
           434,
           1311,
           7035,
           5338,
           5131,
           4767,
           7364,
           2494,
           5301,
           3040,
           3588,
           6059,
           3270,
           6387,
           6091,
           7395,
           6216,
           5104,
           4757,
           9652,
           2373,
           5667,
           5239,
           8910,
           5374,
           3085,
           5534,
           4930,
           7117,
           4140,
           5658,
           7277,
           6959,
           525,
           684,
           1049,
           5313,
           2823,
           4716,
           1491,
           2355,
           2464,
           6023,
           14,
           15,
           4741,
           16,
           6150,
           20,
           1017,
           2553,
           4407,
           3824,
           1185,
           1015,
           1335,
           893,
           893,
           1159,
           1279,
           1233,
           1086,
           966,
           1137,
           839,
           1625,
           850,
           471,
           1542,
           1606
          ],
          "coloraxis": "coloraxis",
          "symbol": "circle"
         },
         "mode": "markers",
         "name": "",
         "orientation": "v",
         "showlegend": false,
         "textposition": "top center",
         "type": "scatter",
         "x": [
          2.385117769241333,
          6.430109024047852,
          -1.3792378902435303,
          7.921972751617432,
          3.5005552768707275,
          -9.974926948547363,
          -9.308769226074219,
          1.7209771871566772,
          -1.6470085382461548,
          -6.106627941131592,
          -6.68122673034668,
          -4.765682697296143,
          -14.817700386047363,
          5.947585582733154,
          0.6587267518043518,
          -6.16010856628418,
          -7.50315523147583,
          -12.559399604797363,
          -5.497910022735596,
          -3.390291213989258,
          -6.947079181671143,
          8.07947826385498,
          -12.779820442199707,
          -0.33990272879600525,
          -8.115275382995605,
          -1.6963059902191162,
          3.2489473819732666,
          0.10565975308418274,
          1.258076786994934,
          -8.353191375732422,
          -5.136231899261475,
          -9.326801300048828,
          9.2623872756958,
          3.216797351837158,
          -3.3364803791046143,
          -2.933168649673462,
          10.209580421447754,
          -2.674694061279297,
          -10.017399787902832,
          -15.62269401550293,
          -11.47175121307373,
          -10.710585594177246,
          4.793903827667236,
          -10.321474075317383,
          -13.355886459350586,
          10.219189643859863,
          5.546145439147949,
          3.2198705673217773,
          5.462865829467773,
          -10.37989616394043,
          -15.225842475891113,
          -6.101602077484131,
          3.3183820247650146,
          9.517129898071289,
          -1.0845890045166016,
          4.244903564453125,
          -2.9350616931915283,
          -14.900359153747559,
          -1.5771280527114868,
          -7.0537848472595215,
          4.812917232513428,
          2.6934409141540527,
          -12.215517044067383,
          8.464810371398926,
          1.771983027458191,
          -13.250592231750488,
          -7.273360729217529,
          2.413388252258301,
          1.8271132707595825,
          8.512834548950195,
          -12.312640190124512,
          -1.8789781332015991,
          0.9281445741653442,
          5.840226650238037,
          -10.324763298034668,
          -1.848512053489685,
          -3.3958804607391357,
          -2.408782958984375,
          9.328085899353027,
          -7.9940056800842285,
          4.845961570739746,
          -12.437198638916016,
          -10.363146781921387,
          -8.305375099182129,
          5.4059319496154785,
          -11.340780258178711,
          -11.577025413513184,
          6.8305277824401855,
          -13.738970756530762,
          -0.009077304974198341,
          7.840818881988525,
          7.5163774490356445,
          6.009212970733643,
          4.358025074005127,
          -3.1135659217834473,
          10.344857215881348,
          3.1709988117218018,
          4.2532267570495605,
          7.672458171844482,
          -9.22984504699707,
          9.368976593017578,
          9.412314414978027,
          3.0011415481567383,
          -8.75643253326416,
          7.276772975921631,
          6.1033854484558105,
          -5.520144462585449,
          -5.421259880065918,
          3.982741594314575,
          4.506042957305908,
          3.7871696949005127,
          -2.678516387939453,
          2.570064067840576,
          -7.269018173217773,
          -2.787961006164551,
          -0.8292195200920105,
          8.34935474395752,
          -2.4374473094940186,
          8.911613464355469,
          2.050766944885254,
          3.2954776287078857,
          10.404170036315918,
          7.201300144195557,
          9.669576644897461,
          -1.5537344217300415,
          10.467963218688965,
          -0.5092005729675293,
          1.502364993095398,
          -0.7810872197151184,
          6.128146648406982,
          -11.374890327453613,
          -12.594818115234375,
          0.00804982427507639,
          6.767731189727783,
          1.8016184568405151,
          -13.842754364013672,
          -2.000608205795288,
          -11.095815658569336,
          9.83360481262207,
          3.4604623317718506,
          3.4517998695373535,
          9.923992156982422,
          -8.228421211242676,
          -6.570886611938477,
          6.960728645324707,
          -5.797214031219482,
          5.6436896324157715,
          0.051374875009059906,
          3.2716972827911377,
          -0.42726701498031616,
          -4.6482720375061035,
          -11.466435432434082,
          -4.353884696960449,
          11.31449031829834,
          1.5905978679656982,
          3.472115993499756,
          0.9242864847183228,
          -9.976851463317871,
          0.8309681415557861,
          6.444440841674805,
          7.420424938201904,
          3.565830945968628,
          -10.839667320251465,
          6.229775428771973,
          -5.327348709106445,
          5.548885345458984,
          10.266694068908691,
          6.282726287841797,
          12.189223289489746,
          5.572503566741943,
          -13.538692474365234,
          -7.292095184326172,
          -10.247583389282227,
          -0.14326180517673492,
          -0.13147400319576263,
          8.970521926879883,
          -3.576491594314575,
          5.914485931396484,
          -11.299995422363281,
          -9.68087100982666,
          -5.989323139190674,
          -5.40871000289917,
          -8.549866676330566,
          4.957649230957031,
          -8.820490837097168,
          8.005738258361816,
          -3.5747904777526855,
          10.694952011108398,
          4.619024276733398,
          -4.125243663787842,
          -4.182406902313232,
          -12.50910472869873,
          6.808051586151123,
          -12.81427001953125,
          10.290763854980469,
          -14.255447387695312,
          -4.534963607788086,
          -7.627056121826172,
          11.433552742004395,
          3.316192626953125,
          -6.887362480163574,
          5.483158588409424,
          -7.815474987030029,
          4.738927841186523,
          -2.7562737464904785,
          10.272744178771973,
          -3.5643351078033447,
          2.568164110183716,
          -4.748049259185791,
          5.233895301818848,
          -4.161352634429932,
          7.127930641174316,
          8.44929027557373,
          1.247322678565979,
          -3.907787322998047,
          -4.742578029632568,
          3.0372822284698486
         ],
         "xaxis": "x",
         "y": [
          6.329695224761963,
          -8.805349349975586,
          -7.928127288818359,
          2.6731512546539307,
          -6.8591532707214355,
          7.66029167175293,
          4.205251216888428,
          3.0356123447418213,
          -2.361217975616455,
          2.5249710083007812,
          -8.268577575683594,
          -4.110653400421143,
          4.922662734985352,
          -5.814070224761963,
          2.0728867053985596,
          1.6184515953063965,
          -3.3597497940063477,
          4.772290229797363,
          1.9970378875732422,
          -6.675500392913818,
          -3.40915846824646,
          5.187182903289795,
          6.326247692108154,
          3.4398674964904785,
          3.287635564804077,
          -3.7392637729644775,
          -7.578064441680908,
          -2.1254360675811768,
          6.442811965942383,
          8.089544296264648,
          -2.409925699234009,
          4.939708709716797,
          -5.436314582824707,
          5.8339715003967285,
          -5.6336236000061035,
          3.89701771736145,
          -2.765737533569336,
          -8.394624710083008,
          4.997213840484619,
          6.658547878265381,
          3.222476005554199,
          0.6988335251808167,
          5.036352157592773,
          -2.8018314838409424,
          3.186292886734009,
          -4.271616458892822,
          3.122668981552124,
          1.7644327878952026,
          4.508419990539551,
          7.402667999267578,
          6.605388164520264,
          7.912596702575684,
          -1.5818138122558594,
          5.021337032318115,
          -4.841994762420654,
          -11.037092208862305,
          -10.00572395324707,
          4.435369491577148,
          -1.1195839643478394,
          -1.9886411428451538,
          -7.125918865203857,
          -8.841360092163086,
          -0.16274811327457428,
          -2.681964874267578,
          4.045839309692383,
          1.2044814825057983,
          3.8862249851226807,
          0.30714860558509827,
          -7.104081153869629,
          -5.647826671600342,
          7.802579879760742,
          0.017926787957549095,
          3.792489528656006,
          3.9711835384368896,
          5.927696704864502,
          -4.479716777801514,
          -3.5658299922943115,
          4.682397365570068,
          -7.451901435852051,
          -1.7186306715011597,
          -10.733223915100098,
          8.65955924987793,
          1.6627641916275024,
          7.224889278411865,
          -10.192136764526367,
          6.438110828399658,
          8.642288208007812,
          -3.3274238109588623,
          6.193211555480957,
          -6.002405643463135,
          5.482792377471924,
          -7.473968029022217,
          -0.9613146185874939,
          2.6624820232391357,
          -4.221212863922119,
          -3.9229018688201904,
          -8.809268951416016,
          -8.918350219726562,
          -5.73554801940918,
          8.885876655578613,
          6.334617614746094,
          3.5126893520355225,
          2.110933542251587,
          -0.7952051162719727,
          2.776421546936035,
          -11.010273933410645,
          5.4964518547058105,
          1.3137717247009277,
          -3.296376943588257,
          -2.020944833755493,
          6.04923677444458,
          7.551252365112305,
          7.439526557922363,
          3.163454055786133,
          -7.9391889572143555,
          -8.269569396972656,
          -3.6370604038238525,
          0.773533284664154,
          -1.5157064199447632,
          5.169178009033203,
          2.490044593811035,
          -5.097531795501709,
          7.755200386047363,
          -3.927781820297241,
          -10.59567928314209,
          3.6244285106658936,
          -4.3390021324157715,
          -1.5759309530258179,
          6.422901153564453,
          1.6075063943862915,
          5.165048599243164,
          6.725998878479004,
          4.832888603210449,
          -0.41676515340805054,
          2.376171112060547,
          1.1315481662750244,
          6.668704986572266,
          -3.5518105030059814,
          2.5826570987701416,
          -3.3752009868621826,
          3.650791883468628,
          4.318515777587891,
          -3.4589626789093018,
          4.378121852874756,
          5.405773162841797,
          -9.106635093688965,
          -9.767483711242676,
          -2.2976038455963135,
          -2.0190114974975586,
          -0.5608669519424438,
          3.2096738815307617,
          -3.0653111934661865,
          -1.6130129098892212,
          -0.677832305431366,
          -6.278547763824463,
          1.2023431062698364,
          -3.5486738681793213,
          -1.0891051292419434,
          6.936072826385498,
          8.126209259033203,
          0.4095420241355896,
          -2.7891621589660645,
          -0.4524253010749817,
          -0.4889720678329468,
          -8.621320724487305,
          6.398293495178223,
          -6.026719093322754,
          -2.7988944053649902,
          -0.6113245487213135,
          7.146420955657959,
          8.462392807006836,
          -7.5835957527160645,
          0.5822867155075073,
          -1.0998389720916748,
          3.2120378017425537,
          6.961055278778076,
          -7.982875823974609,
          -7.15391731262207,
          5.994528293609619,
          -2.360154628753662,
          0.6881384253501892,
          -2.878262758255005,
          5.316494464874268,
          -8.06026554107666,
          -2.664198160171509,
          -2.686779022216797,
          7.849547863006592,
          2.6022350788116455,
          4.729084491729736,
          7.419320106506348,
          3.665886402130127,
          1.0300449132919312,
          3.341387987136841,
          2.9915130138397217,
          -0.4717705547809601,
          3.2535297870635986,
          -5.5854172706604,
          5.3625593185424805,
          -2.193112850189209,
          -0.020312193781137466,
          -5.642157077789307,
          1.2015410661697388,
          -1.403446912765503,
          -5.03556489944458,
          -10.399280548095703,
          3.4151902198791504,
          -2.27417254447937,
          -6.272966384887695,
          6.802932262420654,
          -11.455516815185547,
          -4.994447231292725,
          -3.0854671001434326,
          -7.541026592254639,
          -4.243063449859619,
          -3.5155282020568848,
          -6.92289924621582,
          -5.05797004699707
         ],
         "yaxis": "y"
        }
       ],
       "layout": {
        "coloraxis": {
         "colorbar": {
          "title": {
           "text": "color"
          }
         },
         "colorscale": [
          [
           0,
           "#0d0887"
          ],
          [
           0.1111111111111111,
           "#46039f"
          ],
          [
           0.2222222222222222,
           "#7201a8"
          ],
          [
           0.3333333333333333,
           "#9c179e"
          ],
          [
           0.4444444444444444,
           "#bd3786"
          ],
          [
           0.5555555555555556,
           "#d8576b"
          ],
          [
           0.6666666666666666,
           "#ed7953"
          ],
          [
           0.7777777777777778,
           "#fb9f3a"
          ],
          [
           0.8888888888888888,
           "#fdca26"
          ],
          [
           1,
           "#f0f921"
          ]
         ]
        },
        "legend": {
         "tracegroupgap": 0
        },
        "margin": {
         "t": 60
        },
        "template": {
         "data": {
          "bar": [
           {
            "error_x": {
             "color": "#2a3f5f"
            },
            "error_y": {
             "color": "#2a3f5f"
            },
            "marker": {
             "line": {
              "color": "#E5ECF6",
              "width": 0.5
             },
             "pattern": {
              "fillmode": "overlay",
              "size": 10,
              "solidity": 0.2
             }
            },
            "type": "bar"
           }
          ],
          "barpolar": [
           {
            "marker": {
             "line": {
              "color": "#E5ECF6",
              "width": 0.5
             },
             "pattern": {
              "fillmode": "overlay",
              "size": 10,
              "solidity": 0.2
             }
            },
            "type": "barpolar"
           }
          ],
          "carpet": [
           {
            "aaxis": {
             "endlinecolor": "#2a3f5f",
             "gridcolor": "white",
             "linecolor": "white",
             "minorgridcolor": "white",
             "startlinecolor": "#2a3f5f"
            },
            "baxis": {
             "endlinecolor": "#2a3f5f",
             "gridcolor": "white",
             "linecolor": "white",
             "minorgridcolor": "white",
             "startlinecolor": "#2a3f5f"
            },
            "type": "carpet"
           }
          ],
          "choropleth": [
           {
            "colorbar": {
             "outlinewidth": 0,
             "ticks": ""
            },
            "type": "choropleth"
           }
          ],
          "contour": [
           {
            "colorbar": {
             "outlinewidth": 0,
             "ticks": ""
            },
            "colorscale": [
             [
              0,
              "#0d0887"
             ],
             [
              0.1111111111111111,
              "#46039f"
             ],
             [
              0.2222222222222222,
              "#7201a8"
             ],
             [
              0.3333333333333333,
              "#9c179e"
             ],
             [
              0.4444444444444444,
              "#bd3786"
             ],
             [
              0.5555555555555556,
              "#d8576b"
             ],
             [
              0.6666666666666666,
              "#ed7953"
             ],
             [
              0.7777777777777778,
              "#fb9f3a"
             ],
             [
              0.8888888888888888,
              "#fdca26"
             ],
             [
              1,
              "#f0f921"
             ]
            ],
            "type": "contour"
           }
          ],
          "contourcarpet": [
           {
            "colorbar": {
             "outlinewidth": 0,
             "ticks": ""
            },
            "type": "contourcarpet"
           }
          ],
          "heatmap": [
           {
            "colorbar": {
             "outlinewidth": 0,
             "ticks": ""
            },
            "colorscale": [
             [
              0,
              "#0d0887"
             ],
             [
              0.1111111111111111,
              "#46039f"
             ],
             [
              0.2222222222222222,
              "#7201a8"
             ],
             [
              0.3333333333333333,
              "#9c179e"
             ],
             [
              0.4444444444444444,
              "#bd3786"
             ],
             [
              0.5555555555555556,
              "#d8576b"
             ],
             [
              0.6666666666666666,
              "#ed7953"
             ],
             [
              0.7777777777777778,
              "#fb9f3a"
             ],
             [
              0.8888888888888888,
              "#fdca26"
             ],
             [
              1,
              "#f0f921"
             ]
            ],
            "type": "heatmap"
           }
          ],
          "heatmapgl": [
           {
            "colorbar": {
             "outlinewidth": 0,
             "ticks": ""
            },
            "colorscale": [
             [
              0,
              "#0d0887"
             ],
             [
              0.1111111111111111,
              "#46039f"
             ],
             [
              0.2222222222222222,
              "#7201a8"
             ],
             [
              0.3333333333333333,
              "#9c179e"
             ],
             [
              0.4444444444444444,
              "#bd3786"
             ],
             [
              0.5555555555555556,
              "#d8576b"
             ],
             [
              0.6666666666666666,
              "#ed7953"
             ],
             [
              0.7777777777777778,
              "#fb9f3a"
             ],
             [
              0.8888888888888888,
              "#fdca26"
             ],
             [
              1,
              "#f0f921"
             ]
            ],
            "type": "heatmapgl"
           }
          ],
          "histogram": [
           {
            "marker": {
             "pattern": {
              "fillmode": "overlay",
              "size": 10,
              "solidity": 0.2
             }
            },
            "type": "histogram"
           }
          ],
          "histogram2d": [
           {
            "colorbar": {
             "outlinewidth": 0,
             "ticks": ""
            },
            "colorscale": [
             [
              0,
              "#0d0887"
             ],
             [
              0.1111111111111111,
              "#46039f"
             ],
             [
              0.2222222222222222,
              "#7201a8"
             ],
             [
              0.3333333333333333,
              "#9c179e"
             ],
             [
              0.4444444444444444,
              "#bd3786"
             ],
             [
              0.5555555555555556,
              "#d8576b"
             ],
             [
              0.6666666666666666,
              "#ed7953"
             ],
             [
              0.7777777777777778,
              "#fb9f3a"
             ],
             [
              0.8888888888888888,
              "#fdca26"
             ],
             [
              1,
              "#f0f921"
             ]
            ],
            "type": "histogram2d"
           }
          ],
          "histogram2dcontour": [
           {
            "colorbar": {
             "outlinewidth": 0,
             "ticks": ""
            },
            "colorscale": [
             [
              0,
              "#0d0887"
             ],
             [
              0.1111111111111111,
              "#46039f"
             ],
             [
              0.2222222222222222,
              "#7201a8"
             ],
             [
              0.3333333333333333,
              "#9c179e"
             ],
             [
              0.4444444444444444,
              "#bd3786"
             ],
             [
              0.5555555555555556,
              "#d8576b"
             ],
             [
              0.6666666666666666,
              "#ed7953"
             ],
             [
              0.7777777777777778,
              "#fb9f3a"
             ],
             [
              0.8888888888888888,
              "#fdca26"
             ],
             [
              1,
              "#f0f921"
             ]
            ],
            "type": "histogram2dcontour"
           }
          ],
          "mesh3d": [
           {
            "colorbar": {
             "outlinewidth": 0,
             "ticks": ""
            },
            "type": "mesh3d"
           }
          ],
          "parcoords": [
           {
            "line": {
             "colorbar": {
              "outlinewidth": 0,
              "ticks": ""
             }
            },
            "type": "parcoords"
           }
          ],
          "pie": [
           {
            "automargin": true,
            "type": "pie"
           }
          ],
          "scatter": [
           {
            "fillpattern": {
             "fillmode": "overlay",
             "size": 10,
             "solidity": 0.2
            },
            "type": "scatter"
           }
          ],
          "scatter3d": [
           {
            "line": {
             "colorbar": {
              "outlinewidth": 0,
              "ticks": ""
             }
            },
            "marker": {
             "colorbar": {
              "outlinewidth": 0,
              "ticks": ""
             }
            },
            "type": "scatter3d"
           }
          ],
          "scattercarpet": [
           {
            "marker": {
             "colorbar": {
              "outlinewidth": 0,
              "ticks": ""
             }
            },
            "type": "scattercarpet"
           }
          ],
          "scattergeo": [
           {
            "marker": {
             "colorbar": {
              "outlinewidth": 0,
              "ticks": ""
             }
            },
            "type": "scattergeo"
           }
          ],
          "scattergl": [
           {
            "marker": {
             "colorbar": {
              "outlinewidth": 0,
              "ticks": ""
             }
            },
            "type": "scattergl"
           }
          ],
          "scattermapbox": [
           {
            "marker": {
             "colorbar": {
              "outlinewidth": 0,
              "ticks": ""
             }
            },
            "type": "scattermapbox"
           }
          ],
          "scatterpolar": [
           {
            "marker": {
             "colorbar": {
              "outlinewidth": 0,
              "ticks": ""
             }
            },
            "type": "scatterpolar"
           }
          ],
          "scatterpolargl": [
           {
            "marker": {
             "colorbar": {
              "outlinewidth": 0,
              "ticks": ""
             }
            },
            "type": "scatterpolargl"
           }
          ],
          "scatterternary": [
           {
            "marker": {
             "colorbar": {
              "outlinewidth": 0,
              "ticks": ""
             }
            },
            "type": "scatterternary"
           }
          ],
          "surface": [
           {
            "colorbar": {
             "outlinewidth": 0,
             "ticks": ""
            },
            "colorscale": [
             [
              0,
              "#0d0887"
             ],
             [
              0.1111111111111111,
              "#46039f"
             ],
             [
              0.2222222222222222,
              "#7201a8"
             ],
             [
              0.3333333333333333,
              "#9c179e"
             ],
             [
              0.4444444444444444,
              "#bd3786"
             ],
             [
              0.5555555555555556,
              "#d8576b"
             ],
             [
              0.6666666666666666,
              "#ed7953"
             ],
             [
              0.7777777777777778,
              "#fb9f3a"
             ],
             [
              0.8888888888888888,
              "#fdca26"
             ],
             [
              1,
              "#f0f921"
             ]
            ],
            "type": "surface"
           }
          ],
          "table": [
           {
            "cells": {
             "fill": {
              "color": "#EBF0F8"
             },
             "line": {
              "color": "white"
             }
            },
            "header": {
             "fill": {
              "color": "#C8D4E3"
             },
             "line": {
              "color": "white"
             }
            },
            "type": "table"
           }
          ]
         },
         "layout": {
          "annotationdefaults": {
           "arrowcolor": "#2a3f5f",
           "arrowhead": 0,
           "arrowwidth": 1
          },
          "autotypenumbers": "strict",
          "coloraxis": {
           "colorbar": {
            "outlinewidth": 0,
            "ticks": ""
           }
          },
          "colorscale": {
           "diverging": [
            [
             0,
             "#8e0152"
            ],
            [
             0.1,
             "#c51b7d"
            ],
            [
             0.2,
             "#de77ae"
            ],
            [
             0.3,
             "#f1b6da"
            ],
            [
             0.4,
             "#fde0ef"
            ],
            [
             0.5,
             "#f7f7f7"
            ],
            [
             0.6,
             "#e6f5d0"
            ],
            [
             0.7,
             "#b8e186"
            ],
            [
             0.8,
             "#7fbc41"
            ],
            [
             0.9,
             "#4d9221"
            ],
            [
             1,
             "#276419"
            ]
           ],
           "sequential": [
            [
             0,
             "#0d0887"
            ],
            [
             0.1111111111111111,
             "#46039f"
            ],
            [
             0.2222222222222222,
             "#7201a8"
            ],
            [
             0.3333333333333333,
             "#9c179e"
            ],
            [
             0.4444444444444444,
             "#bd3786"
            ],
            [
             0.5555555555555556,
             "#d8576b"
            ],
            [
             0.6666666666666666,
             "#ed7953"
            ],
            [
             0.7777777777777778,
             "#fb9f3a"
            ],
            [
             0.8888888888888888,
             "#fdca26"
            ],
            [
             1,
             "#f0f921"
            ]
           ],
           "sequentialminus": [
            [
             0,
             "#0d0887"
            ],
            [
             0.1111111111111111,
             "#46039f"
            ],
            [
             0.2222222222222222,
             "#7201a8"
            ],
            [
             0.3333333333333333,
             "#9c179e"
            ],
            [
             0.4444444444444444,
             "#bd3786"
            ],
            [
             0.5555555555555556,
             "#d8576b"
            ],
            [
             0.6666666666666666,
             "#ed7953"
            ],
            [
             0.7777777777777778,
             "#fb9f3a"
            ],
            [
             0.8888888888888888,
             "#fdca26"
            ],
            [
             1,
             "#f0f921"
            ]
           ]
          },
          "colorway": [
           "#636efa",
           "#EF553B",
           "#00cc96",
           "#ab63fa",
           "#FFA15A",
           "#19d3f3",
           "#FF6692",
           "#B6E880",
           "#FF97FF",
           "#FECB52"
          ],
          "font": {
           "color": "#2a3f5f"
          },
          "geo": {
           "bgcolor": "white",
           "lakecolor": "white",
           "landcolor": "#E5ECF6",
           "showlakes": true,
           "showland": true,
           "subunitcolor": "white"
          },
          "hoverlabel": {
           "align": "left"
          },
          "hovermode": "closest",
          "mapbox": {
           "style": "light"
          },
          "paper_bgcolor": "white",
          "plot_bgcolor": "#E5ECF6",
          "polar": {
           "angularaxis": {
            "gridcolor": "white",
            "linecolor": "white",
            "ticks": ""
           },
           "bgcolor": "#E5ECF6",
           "radialaxis": {
            "gridcolor": "white",
            "linecolor": "white",
            "ticks": ""
           }
          },
          "scene": {
           "xaxis": {
            "backgroundcolor": "#E5ECF6",
            "gridcolor": "white",
            "gridwidth": 2,
            "linecolor": "white",
            "showbackground": true,
            "ticks": "",
            "zerolinecolor": "white"
           },
           "yaxis": {
            "backgroundcolor": "#E5ECF6",
            "gridcolor": "white",
            "gridwidth": 2,
            "linecolor": "white",
            "showbackground": true,
            "ticks": "",
            "zerolinecolor": "white"
           },
           "zaxis": {
            "backgroundcolor": "#E5ECF6",
            "gridcolor": "white",
            "gridwidth": 2,
            "linecolor": "white",
            "showbackground": true,
            "ticks": "",
            "zerolinecolor": "white"
           }
          },
          "shapedefaults": {
           "line": {
            "color": "#2a3f5f"
           }
          },
          "ternary": {
           "aaxis": {
            "gridcolor": "white",
            "linecolor": "white",
            "ticks": ""
           },
           "baxis": {
            "gridcolor": "white",
            "linecolor": "white",
            "ticks": ""
           },
           "bgcolor": "#E5ECF6",
           "caxis": {
            "gridcolor": "white",
            "linecolor": "white",
            "ticks": ""
           }
          },
          "title": {
           "x": 0.05
          },
          "xaxis": {
           "automargin": true,
           "gridcolor": "white",
           "linecolor": "white",
           "ticks": "",
           "title": {
            "standoff": 15
           },
           "zerolinecolor": "white",
           "zerolinewidth": 2
          },
          "yaxis": {
           "automargin": true,
           "gridcolor": "white",
           "linecolor": "white",
           "ticks": "",
           "title": {
            "standoff": 15
           },
           "zerolinecolor": "white",
           "zerolinewidth": 2
          }
         }
        },
        "title": {
         "text": "t-SNE of the embeddings of the descriptions"
        },
        "xaxis": {
         "anchor": "y",
         "domain": [
          0,
          1
         ],
         "title": {
          "text": "x"
         }
        },
        "yaxis": {
         "anchor": "x",
         "domain": [
          0,
          1
         ],
         "title": {
          "text": "y"
         }
        }
       }
      }
     },
     "metadata": {},
     "output_type": "display_data"
    }
   ],
   "source": [
    "# plot the t-SNE of the embeddings of the descriptions\n",
    "import numpy as np\n",
    "from sklearn.manifold import TSNE\n",
    "import plotly.express as px\n",
    "\n",
    "X = np.array([model.infer_vector(words[i]) for i in range(len(words))])\n",
    "X_embedded = TSNE(n_components=2).fit_transform(X)\n",
    "\n",
    "df[\"desc_length\"] = df[\"Description\"].str.len()\n",
    "\n",
    "fig = px.scatter(x=X_embedded[:,0], y=X_embedded[:,1], hover_name=df['Title'], color=df['desc_length'])\n",
    "fig.update_traces(textposition='top center')\n",
    "fig.update_layout(title='t-SNE of the embeddings of the descriptions')\n",
    "fig.show()"
   ]
  },
  {
   "cell_type": "code",
   "execution_count": 27,
   "metadata": {},
   "outputs": [
    {
     "data": {
      "application/vnd.plotly.v1+json": {
       "config": {
        "plotlyServerURL": "https://plot.ly"
       },
       "data": [
        {
         "hovertemplate": "<b>%{hovertext}</b><br><br>color=others<br>x=%{x}<br>y=%{y}<extra></extra>",
         "hovertext": [
          "1000 Genomes Project",
          "American Gut Project",
          "Jump Cell Painting",
          "Cancer Cell Line Encyclopedia (CCLE)",
          "Ras-dependent activation of BMAL2 regulates hypoxic metabolism in pancreatic cancer",
          "Therapeutic targeting of ACLY in T-ALL in vivo",
          "Novel diagnosis- and progression-related microRNA signatures in melanoma",
          "Disruption of P2Y2 signaling promotes breast tumor cell dissemination by reducing ATP-dependent calcium elevation and actin localization to cell junctions",
          "A novel Nav1.5-dependent feedback mechanism driving glycolytic acidification in breast cancer metastasis",
          "Deep Visual Proteomics Unveils Precision Medicine Insights in Composite Small Lymphocytic and Classical Hodgkin Lymphoma",
          "KDM2B is required for ribosome biogenesis and its depletion unequally affects mRNA translation",
          "The Universal Breast cancer Subtyping 93 finds that claudin-low breast cancer may originate from basal breast cancer.",
          "An organoid co-culture model for probing systemic anti-tumor immunity in lung cancer",
          "Comprehensive single cell transcriptomics analysis of murine osteosarcoma uncovers Skp2 function in metastasis, genomic instability and immune activation and reveals additional target pathways",
          "Up-regulated transcriptional regulators in mutant RAS gene signatures: a time-resolved multi-omics study in generic epithelial cell models",
          "Mechanical compressive forces increase PI3K output signaling in breast and pancreatic cancer cells",
          "WITHDRAWN: Dual targeting of mitochondrial Lon peptidase 1 and chymotrypsin-like protease by small molecule BT317, as potential therapeutics in malignant astrocytoma",
          "WITHDRAWN: LonP1 Drives Proneural Mesenchymal Transition in IDH1-R132H Diffuse Glioma",
          "KRAS-mediated upregulation of CIP2A promotes suppression of PP2A-B56 to initiate pancreatic cancer development",
          "The Hidden Potential of PDE4 Inhibitor Rolipram: A Multifaceted Examination of its Inhibition of MMP2/9 Reveals Therapeutic Implications",
          "Biological activity of a stable 6-aryl-2-benzoyl-pyridine colchicine-binding site inhibitor, 60c, in metastatic, triple-negative breast cancer",
          "Spatial Profiling of Metals through Matrix-Assisted Laser Desorption Ionization Mass Spectrometry Imaging",
          "Super-Enhancer Driven ZFP36L1 Promotes PD-L1 Expression in Infiltrative Gastric Cancer",
          "Development of fluoro-7-aminocarboxycoumarin-based mitochondrial pyruvate carrier inhibitors as anticancer agents",
          "Green Jackfruit Flour Prevents Metabolic Dysfunction-Associated Steatohepatitis and Progression to Hepatocellular Carcinoma via the AMPK and MAPK Signaling Pathways",
          "Therapeutic potential of SOX9 dysruption in Combined Hepatocellular Carcinoma-Cholangiocarcinoma",
          "Ellagic acid: a potential inhibitor of enhancer of zeste homolog-2 and protein arginine methyltransferase-5",
          "Phosphodiesterase 1A physically interacts with YTHDF2 and reinforces the progression of non-small cell lung cancer",
          "Loss of p21-activated kinase 4 (PAK4) suppresses pancreatic tumor progression and metastasis through regulating E-cadherin",
          "Mathematical Modeling Unveils Optimization Strategies for Targeted Radionuclide Therapy of Blood Cancers",
          "Transposable Elements Shape Stemness in Normal and Leukemic Hematopoiesis",
          "Enhancer plasticity in endometrial tumorigenesis demarcates non-coding somatic mutations and 3D-genome alterations boosting the oncogenic driver ESR1",
          "Constitutive Photomorphogenesis Protein 1 homolog (COP1) sustains nuclear factor-4 alpha function in human hepatocyte models",
          "RGS10 deficiency facilitates distant metastasis by inducing epithelial-mesenchymal transition in breast cancer",
          "In vitro efficacy and in vivo toxicity and retention of targeted nanoformulated carboplatin in a sustained release carrier for treatment of osteosarcoma",
          "Targeting SCD triggers lipotoxicity of cancer cells and enhances anti-tumor immunity in breast cancer brain metastasis mouse models",
          "Lipid availability influences ferroptosis sensitivity in cancer cells by regulating polyunsaturated fatty acid trafficking",
          "Unveiling Novel Double-Negative Prostate Cancer Subtypes Through Single-Cell RNA Sequencing Analysis",
          "Decoil: Reconstructing extrachromosomal DNA structural heterogeneity from long-read sequencing data",
          "PTBP2 promotes cell survival and autophagy in Chronic Myeloid Leukemia by stabilizing BNIP3",
          "Magnetic particle imaging reveals that iron-labeled extracellular vesicles accumulate in brains of mice with metastases",
          "Transcriptional remodeling of the Stromal and Endothelial Microenvironment in MGUS to Multiple Myeloma Progression",
          "Disruption of Circadian Clock Induces Abnormal Mammary Morphology and Aggressive Basal Tumorigenesis by Enhancing LILRB4 Signaling",
          "Peristromal niches protect lung cancers from targeted therapies through a combined effect of multiple molecular mediators",
          "The invasion phenotypes of glioblastoma depend on plastic and reprogrammable cell states",
          "An imbalance between proliferation and differentiation underlies the development of microRNA-defective pineoblastoma",
          "Transcriptional Characterization of the Stromal and Endothelial Bone Marrow Microenvironment during Progression from MGUS to Multiple Myeloma",
          "Nonlinear progression across the occult transition establishes cancer lethality",
          "An Alternatively Spliced Gain-of-Function NT5C2 Isoform Contributes to Thiopurine Resistance in Acute Lymphoblastic Leukemia",
          "KSR1 regulates small-cell lung carcinoma tumor initiation and therapy resistance",
          "The neuroendocrine transition in prostate cancer is dynamic and dependent on ASCL1",
          "Establishing the foundations for a data-centric AI approach for virtual drug screening through a systematic assessment of the properties of chemical data",
          "Vesicle-mediated mitochondrial clearance underlies an actionable metabolic vulnerability in triple-negative breast cancer",
          "Onco-Circuit Addiction and Onco-Nutrient mTORC1 Signaling Vulnerability in a Model of Aggressive T Cell Malignancy",
          "Small extracellular vesicles promote stiffness-mediated metastasis",
          "Tumor-infiltrating nerves functionally alter brain circuits and modulate behavior in a male mouse model of head-and-neck cancer",
          "Multiplexed 3D Analysis of Immune States and Niches in Human Tissue",
          "Three-dimensional assessments are necessary to determine the true, spatially-resolved composition of tissues",
          "Spatial Effects of Infiltrating T cells on Neighbouring Cancer Cells and Prognosis in Stage III CRC patients",
          "Effect of C-to-T transition at CpG sites on tumor suppressor genes in tumor development in cattle evaluated by somatic mutation analysis in enzootic bovine leukosis",
          "Stochastic variation in the FOXM1 transcription program mediates replication stress tolerance.",
          "Stable and Oscillatory Hypoxia Differentially Regulate Invasibility of Breast Cancer Associated Fibroblasts",
          "Advancing CAR T-Cell Therapy: Simultaneously Attack Tumor and Immunosuppressive Cells in the Tumor Microenvironment",
          "ANP32E drives vulnerability to ATR inhibitors by inducing R-loops-dependent Transcription Replication Conflicts in Triple Negative Breast Cancer",
          "Mutational synergy with CREBBP loss in lymphomagenesis identified through forward insertional mutagenesis in a new DLBCL mouse model",
          "HNF&alpha is a target of the Wnt/beta-catenin pathway and regulates colorectal carcinogenesis",
          "A 3D in vitro assay to study combined immune cell infiltration and cytotoxicity",
          "The lipid droplet protein DHRS3 is a regulator of melanoma cell state",
          "NPRL2 gene therapy induces effective antitumor immunity in KRAS/STK11 mutant anti-PD1 resistant metastatic non-small cell lung cancer (NSCLC) in a humanized mouse model",
          "Dual-view jointly learning improves personalized drug synergy prediction",
          "Identifying and targeting key driver genes for collagen production within the 11q13/14 breast cancer amplicon",
          "PTEN and ARID1A haploinsufficiency equip colonic epithelium for oncogenic transformation",
          "A Novel Liver Cancer-Selective Histone Deacetylase Inhibitor Is Effective Against Hepatocellular Carcinoma and Induces Durable Responses with Immunotherapy",
          "Hypercholesterolemia-induced impairment in sorafenib functionality is overcome by avasimibe co-treatment",
          "Novel synthetic ecteinascidins exhibit potent anti-melanoma activity by suppressing super-enhancer-driven oncogenic transcription",
          "YTHDC1 m6A-dependent and m6A-independent functions converge to preserve DNA damage response.",
          "Androgen deprivation therapy-resistant club cells are linked to myeloid cell-driven immunosuppression in the prostate tumor microenvironment",
          "CPT1A Mediates Radiation Sensitivity in Colorectal Cancer",
          "MAP4 kinase-regulated reduced CLSTN1 expression in medulloblastoma is associated with increased invasiveness",
          "Cancer-Associated Hypercalcemia Signals Through the Hindbrain to cause Anorexia",
          "Systematic annotation of orphan RNAs reveals blood-accessible molecular barcodes of cancer identity and cancer-emergent oncogenic drivers",
          "Illuminating the Dark Cancer Phosphoproteome Through a Machine-Learned Co-Regulation Map of 26,280 Phosphosites",
          "CDK12 Loss Promotes Prostate Cancer Development While Exposing Vulnerabilities to Paralog-Based Synthetic Lethality",
          "Consequences of platelet-educated cancer cells on the expression of inflammatory and metastatic glycoproteins.",
          "Targeting Diffuse Midline Glioma with a novel anti-CD99 Antibody",
          "BET inhibition induces GDH1-dependent glutamine metabolic remodeling and vulnerability in liver cancer",
          "UDP-6-glucose dehydrogenase in hormonally responsive breast cancers",
          "How clinically relevant are prostate cancer cell lines? A comprehensive characterisation and multiomics comparison.",
          "Ether lipids influence cancer cell fate by modulating iron uptake",
          "Single-cell profiling reveals the intratumor heterogeneity and immunosuppressive microenvironment in cervical adenocarcinoma",
          "CDK4 and CDK6 upregulation promotes DNA replication stress, genomic instability and resistance to EGFR targeted therapy in lung cancer",
          "Proteomic Analysis Reveals Trilaciclib-Induced Senescence",
          "Assessing Long-Term Stored Tissues for Multi-Omics Data Quality and Proteogenomics Suitability",
          "Deciphering molecular mechanisms of synergistic growth reduction in kinase inhibitor combinations",
          "A therapy candidate for fatal prion diseases turns off disease-causing gene",
          "Simple test for flu could improve diagnosis and surveillance",
          "Gut microbiome changes align with increased risk of type 2 diabetes",
          "#WhyIScience Q&A: A biochemist uses mass spectrometry to find proteins involved in cancer",
          "Improved prime editing system makes gene-sized edits in human cells at therapeutic levels",
          "Q&A: How to jump-start new psychiatric and neurological drug development",
          "Q&A: New approaches are needed to find better cancer drug targets",
          "Researchers engineer in vivo delivery system for prime editing, partially restoring vision in mice",
          "Evolved prime editors are smaller and more efficient for therapeutic applications",
          "Researchers reprogram gene therapy viral vectors to bind specific protein targets",
          "Base editing treats spinal muscular atrophy in mice",
          "Bacterial injection system delivers proteins in mice and human cells",
          "Schizophrenia gene mutation causes many changes in the mouse brain  ",
          "Researchers find first strong genetic risk factor for bipolar disorder",
          "First large genetic study of bipolar disorder in Asian populations launches",
          "Study reveals how some bacterial infections become chronic",
          "Battling antibiotic resistance in the lab and the clinic",
          "Several pre-existing RSV lineages powered the 2022 surge",
          "Injectable agents could improve liquid biopsy for cancer detection and monitoring",
          "A research team searches for every gene that helps tumors evade immunotherapy",
          "Lung cancers molecular features shed light on immunotherapy response",
          "Scientists use genetics to dig into a tumors past",
          "How chromosome imbalances can drive cancer",
          "Three studies highlight how proteins are altered in multiple cancer types",
          "Some CRISPR screens may be missing cancer drug targets",
          "New gene delivery vehicle shows promise for human brain gene therapy",
          "Merkin Prize in Biomedical Technology awarded to F. William Studier for development of widely used protein- and RNA-production platform",
          "Calico and Broad Institute extend collaboration, adding focus on age-related neurodegeneration",
          "#WhyIScience Q&A: How a computational biologist balances work with life as an elite rower",
          "Scientists work out the effects of exercise at the cellular level",
          "A new viral surveillance system in West Africa is showing the world how to prevent the next pandemic",
          "Scientists uncover 95 regions of the genome linked to PTSD",
          "Scientists link certain gut bacteria to lower heart disease risk",
          "Ancient DNA reveals possible origin of a racial/ethnic disparity in a childhood cancer",
          "#WhyIScience Q&A: A cell biologist now helps recent college graduates launch their scientific careers",
          "Messenger RNAs with multiple tails could lead to more effective therapeutics",
          "Spatial study of lung cancer reveals immune markers of response to immunotherapy",
          "Researchers roll out a more accurate way to estimate genetic risks of disease",
          "Scientists generate new targeted protein degradation system that tunes a cells own proteins",
          "Study reveals genetic clusters that may explain differences in type 2 diabetes risk",
          "A close research partnership with African scientists helps solve the mystery of malaria-like illnesses",
          "Schizophrenia and aging may share a common biological basis",
          "Global survey of gut microbes uncovers 18 new bacterial species and clues to antibiotic resistance",
          "#WhyIScience Q&A: A software engineer develops computational tools for psychiatric and brain research",
          "Count Me In Launches Osteosarcoma Project in Spanish / Count Me In Lanza el Osteosarcoma Project en espanol",
          "Genetic risk prediction for 10 chronic diseases moves closer to the clinic",
          "Largest and most diverse genome-wide association study of type 2 diabetes reveals new genetic factors",
          "Study finds youth-onset diabetes is a genetically distinct form of the disorder",
          "Researchers uncover genetic factors for severe Lassa fever",
          "Study reveals links between blood vessel biology and heart disease risk",
          "With retinal images and genetic data, researchers predict cardiovascular, metabolic, and other disease risks",
          "Terra is now generally available on Microsoft Azure",
          "With AI, researchers identify a new class of antibiotic candidates",
          "New method tags cells with location coordinates for single-cell studies",
          "Scientists map the locations of hundreds to thousands of cell types across a mammalian brain ",
          "Approach studies how rare gene variant pairs contribute to disease",
          "Using 76,000 genomes, researchers build new map of regions of the human genome under natural selection",
          "Count Me In patient-partnered research launches new project for Pediatric Hepatocellular Carcinoma (Pedi-HCC) and HCC-like tumors",
          "Search algorithm reveals nearly 200 new kinds of CRISPR systems",
          "A new method for prenatal genetic testing relies on just a blood draw",
          "Fairness, listening, and learning: A conversation with Broads chief equity officer",
          "#WhyIScience Q&A: A computational biologist uses physics to find hidden patterns in cells",
          "Gerstner Center for Cancer Diagnostics receives additional commitment from Louis V. Gerstner, Jr., to advance technologies that could transform cancer care",
          "Cellular atlas built to guide precision treatment of rheumatoid arthritis",
          "Q&A: How generative AI could help accelerate biomedical research",
          "Bayer and Broad Institute extend cancer therapy research collaboration",
          "New patient-partnered research project will study heart disease and diabetes risk in South Asian populations ",
          "#WhyIScience Q&A: A research scientist uses mass spectrometry to discover how metabolites affect human health",
          "Marvin Caruthers receives inaugural Merkin Prize in ceremony at the Broad Institute for DNA synthesis technology",
          "Q&A: Broads newly renamed clinical lab marks a turning point for the institutes Genomics Platform",
          "Broad Clinical Labs established to expand clinical services",
          "Scientists reveal cellular changes unique to early Alzheimers disease",
          "Broad Institute welcomes Kedrick Perry as new Chief Equity Officer",
          "New machine learning techniques boost predictions for virtual drug screening with less data",
          "New research alliance with Novo Nordisk to identify therapeutic targets for type 2 diabetes and cardiometabolic diseases",
          "#WhyIScience Q&A: A computational biologist helps build datasets for genetic disease diagnosis",
          "Nuclear DNA influences variation in mitochondrial DNA",
          "A surprising new role for a major immune regulator",
          "A look back at the first year of NeuroDev",
          "A how-to for performing quantitative bioimaging ",
          "A scientist devotes her career to tackling inequity in genomics",
          "More diverse datasets lead to better genetic risk prediction for heart disease ",
          "New image-based cellular profiling tool peers deeply into metabolic biology",
          "Scientists pinpoint where thousands of individual proteins are made in intact tissue and single cells",
          "Inaugural Merkin Prize in Biomedical Technology awarded to Dr. Marvin Caruthers for developing technology that efficiently synthesizes DNA",
          "Researchers uncover new CRISPR-like system in animals that can edit the human genome",
          "Low oxygen levels restore balance and coordination in a mouse model of a movement disorder",
          "Researchers identify gut microbiome signatures linked to precancerous colon polyps",
          "UV radiation plays role in development of rare leukemia in the skin",
          "Multi-ancestry study reveals genetic risk factors for two common pregnancy complications",
          "Artificial intelligence system predicts consequences of disruptions to genetic networks",
          "#WhyIScience Q&A: A process development lead returns to her research roots",
          "Study finds how a genetic variant raises diabetes risk through an unexpected mechanism",
          "Alumni of the Broads summer research programs discuss the personal and professional impact of their time at Broad",
          "Broads summer research programs for high school and college students have helped shape the careers of more than 300 young scientists",
          "Cells can use uridine, a component of RNA, as a source of energy",
          "Viruses in the guts of centenarians may help them resist pathogens",
          "How one lab uses machine learning to solve a key gene therapy problem",
          "Hybrid protein language models for fitness prediction and design",
          "Unsupervised viral antibody escape prediction for future-proof vaccines",
          "Accurate proteome-wide missense variant effect prediction with Alpha Missens",
          "Alpha Missens",
          "Testing data-driven hypotheses post-clustering",
          "Data thinning to avoid double dipping",
          "SPLASH unifies genomic analysis and discovery through a paradigm shift to statistics-first",
          "Statistical and algorithmic challenges in reference-free analysis",
          "Single-cell models for state-dependent eQTL analysis",
          "Scalable single-cell models for robust cell-state-dependent eQTL mapping",
          "Protein language models learn evolutionary statistics of interacting sequence motifs",
          "Combining protein language and structure models to redesign E. coli proteome with a reduced amino acid alphabet",
          "Protein Design with Deep Learning: Progress, Challenges, and Next Steps",
          "Unlocking Generative AI for Drug Discovery with Zero-shot Models",
          "Multimodal protein language models for deciphering protein function",
          "Geometric deep learning and generative models for protein target discovery"
         ],
         "legendgroup": "others",
         "marker": {
          "color": "#636efa",
          "symbol": "circle"
         },
         "mode": "markers",
         "name": "others",
         "orientation": "v",
         "showlegend": true,
         "textposition": "top center",
         "type": "scatter",
         "x": [
          2.385117769241333,
          6.430109024047852,
          -1.3792378902435303,
          7.921972751617432,
          3.5005552768707275,
          -9.974926948547363,
          -9.308769226074219,
          1.7209771871566772,
          -1.6470085382461548,
          -6.106627941131592,
          -6.68122673034668,
          -4.765682697296143,
          -14.817700386047363,
          5.947585582733154,
          0.6587267518043518,
          -6.16010856628418,
          -7.50315523147583,
          -12.559399604797363,
          -5.497910022735596,
          -3.390291213989258,
          -6.947079181671143,
          8.07947826385498,
          -12.779820442199707,
          -0.33990272879600525,
          -8.115275382995605,
          -1.6963059902191162,
          3.2489473819732666,
          0.10565975308418274,
          -8.353191375732422,
          -5.136231899261475,
          -9.326801300048828,
          9.2623872756958,
          -3.3364803791046143,
          -2.933168649673462,
          10.209580421447754,
          -2.674694061279297,
          -10.017399787902832,
          -15.62269401550293,
          -11.47175121307373,
          -10.710585594177246,
          -10.321474075317383,
          -13.355886459350586,
          10.219189643859863,
          5.546145439147949,
          3.2198705673217773,
          5.462865829467773,
          -10.37989616394043,
          -15.225842475891113,
          -6.101602077484131,
          3.3183820247650146,
          9.517129898071289,
          -1.0845890045166016,
          4.244903564453125,
          -2.9350616931915283,
          -14.900359153747559,
          -1.5771280527114868,
          -7.0537848472595215,
          4.812917232513428,
          2.6934409141540527,
          -12.215517044067383,
          8.464810371398926,
          -13.250592231750488,
          -7.273360729217529,
          2.413388252258301,
          1.8271132707595825,
          8.512834548950195,
          -12.312640190124512,
          -1.8789781332015991,
          0.9281445741653442,
          5.840226650238037,
          -10.324763298034668,
          -1.848512053489685,
          -3.3958804607391357,
          -2.408782958984375,
          9.328085899353027,
          -7.9940056800842285,
          4.845961570739746,
          -12.437198638916016,
          -10.363146781921387,
          -8.305375099182129,
          5.4059319496154785,
          -11.340780258178711,
          -11.577025413513184,
          6.8305277824401855,
          -13.738970756530762,
          -0.009077304974198341,
          7.840818881988525,
          7.5163774490356445,
          6.009212970733643,
          4.358025074005127,
          -3.1135659217834473,
          10.344857215881348,
          3.1709988117218018,
          4.2532267570495605,
          7.672458171844482,
          -9.22984504699707,
          9.368976593017578,
          9.412314414978027,
          3.0011415481567383,
          -8.75643253326416,
          7.276772975921631,
          6.1033854484558105,
          -5.520144462585449,
          -5.421259880065918,
          3.982741594314575,
          4.506042957305908,
          -2.678516387939453,
          -7.269018173217773,
          -2.787961006164551,
          -0.8292195200920105,
          8.34935474395752,
          -2.4374473094940186,
          8.911613464355469,
          3.2954776287078857,
          10.404170036315918,
          7.201300144195557,
          9.669576644897461,
          -1.5537344217300415,
          10.467963218688965,
          -0.5092005729675293,
          1.502364993095398,
          -0.7810872197151184,
          6.128146648406982,
          -11.374890327453613,
          -12.594818115234375,
          0.00804982427507639,
          6.767731189727783,
          1.8016184568405151,
          -13.842754364013672,
          -2.000608205795288,
          -11.095815658569336,
          9.83360481262207,
          3.4604623317718506,
          3.4517998695373535,
          9.923992156982422,
          -8.228421211242676,
          -6.570886611938477,
          6.960728645324707,
          -5.797214031219482,
          5.6436896324157715,
          0.051374875009059906,
          3.2716972827911377,
          -0.42726701498031616,
          -4.6482720375061035,
          -11.466435432434082,
          -4.353884696960449,
          11.31449031829834,
          1.5905978679656982,
          3.472115993499756,
          0.9242864847183228,
          -9.976851463317871,
          6.444440841674805,
          7.420424938201904,
          3.565830945968628,
          -10.839667320251465,
          6.229775428771973,
          -5.327348709106445,
          5.548885345458984,
          10.266694068908691,
          6.282726287841797,
          12.189223289489746,
          5.572503566741943,
          -13.538692474365234,
          -7.292095184326172,
          -10.247583389282227,
          -0.14326180517673492,
          -0.13147400319576263,
          8.970521926879883,
          -3.576491594314575,
          5.914485931396484,
          -11.299995422363281,
          -9.68087100982666,
          -5.989323139190674,
          -5.40871000289917,
          -8.549866676330566,
          4.957649230957031,
          -8.820490837097168,
          8.005738258361816,
          -3.5747904777526855,
          10.694952011108398,
          -4.125243663787842,
          -4.182406902313232,
          -12.50910472869873,
          6.808051586151123,
          -12.81427001953125,
          10.290763854980469,
          -14.255447387695312,
          -4.534963607788086,
          -7.627056121826172,
          11.433552742004395,
          3.316192626953125,
          -6.887362480163574,
          5.483158588409424,
          -7.815474987030029,
          4.738927841186523,
          -2.7562737464904785,
          10.272744178771973,
          -3.5643351078033447,
          2.568164110183716,
          -4.748049259185791,
          5.233895301818848,
          -4.161352634429932,
          7.127930641174316,
          8.44929027557373,
          1.247322678565979,
          -3.907787322998047,
          -4.742578029632568,
          3.0372822284698486
         ],
         "xaxis": "x",
         "y": [
          6.329695224761963,
          -8.805349349975586,
          -7.928127288818359,
          2.6731512546539307,
          -6.8591532707214355,
          7.66029167175293,
          4.205251216888428,
          3.0356123447418213,
          -2.361217975616455,
          2.5249710083007812,
          -8.268577575683594,
          -4.110653400421143,
          4.922662734985352,
          -5.814070224761963,
          2.0728867053985596,
          1.6184515953063965,
          -3.3597497940063477,
          4.772290229797363,
          1.9970378875732422,
          -6.675500392913818,
          -3.40915846824646,
          5.187182903289795,
          6.326247692108154,
          3.4398674964904785,
          3.287635564804077,
          -3.7392637729644775,
          -7.578064441680908,
          -2.1254360675811768,
          8.089544296264648,
          -2.409925699234009,
          4.939708709716797,
          -5.436314582824707,
          -5.6336236000061035,
          3.89701771736145,
          -2.765737533569336,
          -8.394624710083008,
          4.997213840484619,
          6.658547878265381,
          3.222476005554199,
          0.6988335251808167,
          -2.8018314838409424,
          3.186292886734009,
          -4.271616458892822,
          3.122668981552124,
          1.7644327878952026,
          4.508419990539551,
          7.402667999267578,
          6.605388164520264,
          7.912596702575684,
          -1.5818138122558594,
          5.021337032318115,
          -4.841994762420654,
          -11.037092208862305,
          -10.00572395324707,
          4.435369491577148,
          -1.1195839643478394,
          -1.9886411428451538,
          -7.125918865203857,
          -8.841360092163086,
          -0.16274811327457428,
          -2.681964874267578,
          1.2044814825057983,
          3.8862249851226807,
          0.30714860558509827,
          -7.104081153869629,
          -5.647826671600342,
          7.802579879760742,
          0.017926787957549095,
          3.792489528656006,
          3.9711835384368896,
          5.927696704864502,
          -4.479716777801514,
          -3.5658299922943115,
          4.682397365570068,
          -7.451901435852051,
          -1.7186306715011597,
          -10.733223915100098,
          8.65955924987793,
          1.6627641916275024,
          7.224889278411865,
          -10.192136764526367,
          6.438110828399658,
          8.642288208007812,
          -3.3274238109588623,
          6.193211555480957,
          -6.002405643463135,
          5.482792377471924,
          -7.473968029022217,
          -0.9613146185874939,
          2.6624820232391357,
          -4.221212863922119,
          -3.9229018688201904,
          -8.809268951416016,
          -8.918350219726562,
          -5.73554801940918,
          8.885876655578613,
          6.334617614746094,
          3.5126893520355225,
          2.110933542251587,
          -0.7952051162719727,
          2.776421546936035,
          -11.010273933410645,
          5.4964518547058105,
          1.3137717247009277,
          -3.296376943588257,
          -2.020944833755493,
          7.551252365112305,
          3.163454055786133,
          -7.9391889572143555,
          -8.269569396972656,
          -3.6370604038238525,
          0.773533284664154,
          -1.5157064199447632,
          2.490044593811035,
          -5.097531795501709,
          7.755200386047363,
          -3.927781820297241,
          -10.59567928314209,
          3.6244285106658936,
          -4.3390021324157715,
          -1.5759309530258179,
          6.422901153564453,
          1.6075063943862915,
          5.165048599243164,
          6.725998878479004,
          4.832888603210449,
          -0.41676515340805054,
          2.376171112060547,
          1.1315481662750244,
          6.668704986572266,
          -3.5518105030059814,
          2.5826570987701416,
          -3.3752009868621826,
          3.650791883468628,
          4.318515777587891,
          -3.4589626789093018,
          4.378121852874756,
          5.405773162841797,
          -9.106635093688965,
          -9.767483711242676,
          -2.2976038455963135,
          -2.0190114974975586,
          -0.5608669519424438,
          3.2096738815307617,
          -3.0653111934661865,
          -1.6130129098892212,
          -0.677832305431366,
          -6.278547763824463,
          1.2023431062698364,
          -3.5486738681793213,
          -1.0891051292419434,
          8.126209259033203,
          0.4095420241355896,
          -2.7891621589660645,
          -0.4524253010749817,
          -0.4889720678329468,
          -8.621320724487305,
          6.398293495178223,
          -6.026719093322754,
          -2.7988944053649902,
          -0.6113245487213135,
          7.146420955657959,
          8.462392807006836,
          -7.5835957527160645,
          0.5822867155075073,
          -1.0998389720916748,
          3.2120378017425537,
          6.961055278778076,
          -7.982875823974609,
          -7.15391731262207,
          5.994528293609619,
          -2.360154628753662,
          0.6881384253501892,
          -2.878262758255005,
          5.316494464874268,
          -8.06026554107666,
          -2.664198160171509,
          -2.686779022216797,
          7.849547863006592,
          2.6022350788116455,
          7.419320106506348,
          3.665886402130127,
          1.0300449132919312,
          3.341387987136841,
          2.9915130138397217,
          -0.4717705547809601,
          3.2535297870635986,
          -5.5854172706604,
          5.3625593185424805,
          -2.193112850189209,
          -0.020312193781137466,
          -5.642157077789307,
          1.2015410661697388,
          -1.403446912765503,
          -5.03556489944458,
          -10.399280548095703,
          3.4151902198791504,
          -2.27417254447937,
          -6.272966384887695,
          6.802932262420654,
          -11.455516815185547,
          -4.994447231292725,
          -3.0854671001434326,
          -7.541026592254639,
          -4.243063449859619,
          -3.5155282020568848,
          -6.92289924621582,
          -5.05797004699707
         ],
         "yaxis": "y"
        },
        {
         "hovertemplate": "<b>%{hovertext}</b><br><br>color=10 closest<br>x=%{x}<br>y=%{y}<extra></extra>",
         "hovertext": [
          "Targeting PRMT3 Impairs Methylation and Oligomerization of HSP60 to Boost Anti-Tumor Immunity by Activating cGAS/STING Signaling",
          "CDC42 Inhibitors Alter Patterns of Vessel Arborization in Skin and Tumors in vivo",
          "Aberrant cytoplasmic localization of MLH1 characterizes a sub-clonal breast cancer cell population that seeds recurrence",
          "Fatty acids are not a significant contributor to the TCA cycle in cancer cell lines: evidence of incomplete fatty acid oxidation.",
          "Survey of brain cell junctions shows striking similarities between schizophrenia and bipolar disorder",
          "Two large studies reveal genes and genome regions that influence schizophrenia risk",
          "Cancer immunotherapy candidate provokes powerful dual response in cancer and immune cells",
          "New dictionary of immune responses reveals far more complexity in the immune system than previously thought",
          "#WhyIScience Q&A: How a summer at Broad helped foster a love of research for a young scientist"
         ],
         "legendgroup": "10 closest",
         "marker": {
          "color": "#EF553B",
          "symbol": "circle"
         },
         "mode": "markers",
         "name": "10 closest",
         "orientation": "v",
         "showlegend": true,
         "textposition": "top center",
         "type": "scatter",
         "x": [
          1.258076786994934,
          3.216797351837158,
          4.793903827667236,
          1.771983027458191,
          3.7871696949005127,
          2.570064067840576,
          2.050766944885254,
          0.8309681415557861,
          4.619024276733398
         ],
         "xaxis": "x",
         "y": [
          6.442811965942383,
          5.8339715003967285,
          5.036352157592773,
          4.045839309692383,
          6.04923677444458,
          7.439526557922363,
          5.169178009033203,
          6.936072826385498,
          4.729084491729736
         ],
         "yaxis": "y"
        }
       ],
       "layout": {
        "legend": {
         "title": {
          "text": "color"
         },
         "tracegroupgap": 0
        },
        "margin": {
         "t": 60
        },
        "template": {
         "data": {
          "bar": [
           {
            "error_x": {
             "color": "#2a3f5f"
            },
            "error_y": {
             "color": "#2a3f5f"
            },
            "marker": {
             "line": {
              "color": "#E5ECF6",
              "width": 0.5
             },
             "pattern": {
              "fillmode": "overlay",
              "size": 10,
              "solidity": 0.2
             }
            },
            "type": "bar"
           }
          ],
          "barpolar": [
           {
            "marker": {
             "line": {
              "color": "#E5ECF6",
              "width": 0.5
             },
             "pattern": {
              "fillmode": "overlay",
              "size": 10,
              "solidity": 0.2
             }
            },
            "type": "barpolar"
           }
          ],
          "carpet": [
           {
            "aaxis": {
             "endlinecolor": "#2a3f5f",
             "gridcolor": "white",
             "linecolor": "white",
             "minorgridcolor": "white",
             "startlinecolor": "#2a3f5f"
            },
            "baxis": {
             "endlinecolor": "#2a3f5f",
             "gridcolor": "white",
             "linecolor": "white",
             "minorgridcolor": "white",
             "startlinecolor": "#2a3f5f"
            },
            "type": "carpet"
           }
          ],
          "choropleth": [
           {
            "colorbar": {
             "outlinewidth": 0,
             "ticks": ""
            },
            "type": "choropleth"
           }
          ],
          "contour": [
           {
            "colorbar": {
             "outlinewidth": 0,
             "ticks": ""
            },
            "colorscale": [
             [
              0,
              "#0d0887"
             ],
             [
              0.1111111111111111,
              "#46039f"
             ],
             [
              0.2222222222222222,
              "#7201a8"
             ],
             [
              0.3333333333333333,
              "#9c179e"
             ],
             [
              0.4444444444444444,
              "#bd3786"
             ],
             [
              0.5555555555555556,
              "#d8576b"
             ],
             [
              0.6666666666666666,
              "#ed7953"
             ],
             [
              0.7777777777777778,
              "#fb9f3a"
             ],
             [
              0.8888888888888888,
              "#fdca26"
             ],
             [
              1,
              "#f0f921"
             ]
            ],
            "type": "contour"
           }
          ],
          "contourcarpet": [
           {
            "colorbar": {
             "outlinewidth": 0,
             "ticks": ""
            },
            "type": "contourcarpet"
           }
          ],
          "heatmap": [
           {
            "colorbar": {
             "outlinewidth": 0,
             "ticks": ""
            },
            "colorscale": [
             [
              0,
              "#0d0887"
             ],
             [
              0.1111111111111111,
              "#46039f"
             ],
             [
              0.2222222222222222,
              "#7201a8"
             ],
             [
              0.3333333333333333,
              "#9c179e"
             ],
             [
              0.4444444444444444,
              "#bd3786"
             ],
             [
              0.5555555555555556,
              "#d8576b"
             ],
             [
              0.6666666666666666,
              "#ed7953"
             ],
             [
              0.7777777777777778,
              "#fb9f3a"
             ],
             [
              0.8888888888888888,
              "#fdca26"
             ],
             [
              1,
              "#f0f921"
             ]
            ],
            "type": "heatmap"
           }
          ],
          "heatmapgl": [
           {
            "colorbar": {
             "outlinewidth": 0,
             "ticks": ""
            },
            "colorscale": [
             [
              0,
              "#0d0887"
             ],
             [
              0.1111111111111111,
              "#46039f"
             ],
             [
              0.2222222222222222,
              "#7201a8"
             ],
             [
              0.3333333333333333,
              "#9c179e"
             ],
             [
              0.4444444444444444,
              "#bd3786"
             ],
             [
              0.5555555555555556,
              "#d8576b"
             ],
             [
              0.6666666666666666,
              "#ed7953"
             ],
             [
              0.7777777777777778,
              "#fb9f3a"
             ],
             [
              0.8888888888888888,
              "#fdca26"
             ],
             [
              1,
              "#f0f921"
             ]
            ],
            "type": "heatmapgl"
           }
          ],
          "histogram": [
           {
            "marker": {
             "pattern": {
              "fillmode": "overlay",
              "size": 10,
              "solidity": 0.2
             }
            },
            "type": "histogram"
           }
          ],
          "histogram2d": [
           {
            "colorbar": {
             "outlinewidth": 0,
             "ticks": ""
            },
            "colorscale": [
             [
              0,
              "#0d0887"
             ],
             [
              0.1111111111111111,
              "#46039f"
             ],
             [
              0.2222222222222222,
              "#7201a8"
             ],
             [
              0.3333333333333333,
              "#9c179e"
             ],
             [
              0.4444444444444444,
              "#bd3786"
             ],
             [
              0.5555555555555556,
              "#d8576b"
             ],
             [
              0.6666666666666666,
              "#ed7953"
             ],
             [
              0.7777777777777778,
              "#fb9f3a"
             ],
             [
              0.8888888888888888,
              "#fdca26"
             ],
             [
              1,
              "#f0f921"
             ]
            ],
            "type": "histogram2d"
           }
          ],
          "histogram2dcontour": [
           {
            "colorbar": {
             "outlinewidth": 0,
             "ticks": ""
            },
            "colorscale": [
             [
              0,
              "#0d0887"
             ],
             [
              0.1111111111111111,
              "#46039f"
             ],
             [
              0.2222222222222222,
              "#7201a8"
             ],
             [
              0.3333333333333333,
              "#9c179e"
             ],
             [
              0.4444444444444444,
              "#bd3786"
             ],
             [
              0.5555555555555556,
              "#d8576b"
             ],
             [
              0.6666666666666666,
              "#ed7953"
             ],
             [
              0.7777777777777778,
              "#fb9f3a"
             ],
             [
              0.8888888888888888,
              "#fdca26"
             ],
             [
              1,
              "#f0f921"
             ]
            ],
            "type": "histogram2dcontour"
           }
          ],
          "mesh3d": [
           {
            "colorbar": {
             "outlinewidth": 0,
             "ticks": ""
            },
            "type": "mesh3d"
           }
          ],
          "parcoords": [
           {
            "line": {
             "colorbar": {
              "outlinewidth": 0,
              "ticks": ""
             }
            },
            "type": "parcoords"
           }
          ],
          "pie": [
           {
            "automargin": true,
            "type": "pie"
           }
          ],
          "scatter": [
           {
            "fillpattern": {
             "fillmode": "overlay",
             "size": 10,
             "solidity": 0.2
            },
            "type": "scatter"
           }
          ],
          "scatter3d": [
           {
            "line": {
             "colorbar": {
              "outlinewidth": 0,
              "ticks": ""
             }
            },
            "marker": {
             "colorbar": {
              "outlinewidth": 0,
              "ticks": ""
             }
            },
            "type": "scatter3d"
           }
          ],
          "scattercarpet": [
           {
            "marker": {
             "colorbar": {
              "outlinewidth": 0,
              "ticks": ""
             }
            },
            "type": "scattercarpet"
           }
          ],
          "scattergeo": [
           {
            "marker": {
             "colorbar": {
              "outlinewidth": 0,
              "ticks": ""
             }
            },
            "type": "scattergeo"
           }
          ],
          "scattergl": [
           {
            "marker": {
             "colorbar": {
              "outlinewidth": 0,
              "ticks": ""
             }
            },
            "type": "scattergl"
           }
          ],
          "scattermapbox": [
           {
            "marker": {
             "colorbar": {
              "outlinewidth": 0,
              "ticks": ""
             }
            },
            "type": "scattermapbox"
           }
          ],
          "scatterpolar": [
           {
            "marker": {
             "colorbar": {
              "outlinewidth": 0,
              "ticks": ""
             }
            },
            "type": "scatterpolar"
           }
          ],
          "scatterpolargl": [
           {
            "marker": {
             "colorbar": {
              "outlinewidth": 0,
              "ticks": ""
             }
            },
            "type": "scatterpolargl"
           }
          ],
          "scatterternary": [
           {
            "marker": {
             "colorbar": {
              "outlinewidth": 0,
              "ticks": ""
             }
            },
            "type": "scatterternary"
           }
          ],
          "surface": [
           {
            "colorbar": {
             "outlinewidth": 0,
             "ticks": ""
            },
            "colorscale": [
             [
              0,
              "#0d0887"
             ],
             [
              0.1111111111111111,
              "#46039f"
             ],
             [
              0.2222222222222222,
              "#7201a8"
             ],
             [
              0.3333333333333333,
              "#9c179e"
             ],
             [
              0.4444444444444444,
              "#bd3786"
             ],
             [
              0.5555555555555556,
              "#d8576b"
             ],
             [
              0.6666666666666666,
              "#ed7953"
             ],
             [
              0.7777777777777778,
              "#fb9f3a"
             ],
             [
              0.8888888888888888,
              "#fdca26"
             ],
             [
              1,
              "#f0f921"
             ]
            ],
            "type": "surface"
           }
          ],
          "table": [
           {
            "cells": {
             "fill": {
              "color": "#EBF0F8"
             },
             "line": {
              "color": "white"
             }
            },
            "header": {
             "fill": {
              "color": "#C8D4E3"
             },
             "line": {
              "color": "white"
             }
            },
            "type": "table"
           }
          ]
         },
         "layout": {
          "annotationdefaults": {
           "arrowcolor": "#2a3f5f",
           "arrowhead": 0,
           "arrowwidth": 1
          },
          "autotypenumbers": "strict",
          "coloraxis": {
           "colorbar": {
            "outlinewidth": 0,
            "ticks": ""
           }
          },
          "colorscale": {
           "diverging": [
            [
             0,
             "#8e0152"
            ],
            [
             0.1,
             "#c51b7d"
            ],
            [
             0.2,
             "#de77ae"
            ],
            [
             0.3,
             "#f1b6da"
            ],
            [
             0.4,
             "#fde0ef"
            ],
            [
             0.5,
             "#f7f7f7"
            ],
            [
             0.6,
             "#e6f5d0"
            ],
            [
             0.7,
             "#b8e186"
            ],
            [
             0.8,
             "#7fbc41"
            ],
            [
             0.9,
             "#4d9221"
            ],
            [
             1,
             "#276419"
            ]
           ],
           "sequential": [
            [
             0,
             "#0d0887"
            ],
            [
             0.1111111111111111,
             "#46039f"
            ],
            [
             0.2222222222222222,
             "#7201a8"
            ],
            [
             0.3333333333333333,
             "#9c179e"
            ],
            [
             0.4444444444444444,
             "#bd3786"
            ],
            [
             0.5555555555555556,
             "#d8576b"
            ],
            [
             0.6666666666666666,
             "#ed7953"
            ],
            [
             0.7777777777777778,
             "#fb9f3a"
            ],
            [
             0.8888888888888888,
             "#fdca26"
            ],
            [
             1,
             "#f0f921"
            ]
           ],
           "sequentialminus": [
            [
             0,
             "#0d0887"
            ],
            [
             0.1111111111111111,
             "#46039f"
            ],
            [
             0.2222222222222222,
             "#7201a8"
            ],
            [
             0.3333333333333333,
             "#9c179e"
            ],
            [
             0.4444444444444444,
             "#bd3786"
            ],
            [
             0.5555555555555556,
             "#d8576b"
            ],
            [
             0.6666666666666666,
             "#ed7953"
            ],
            [
             0.7777777777777778,
             "#fb9f3a"
            ],
            [
             0.8888888888888888,
             "#fdca26"
            ],
            [
             1,
             "#f0f921"
            ]
           ]
          },
          "colorway": [
           "#636efa",
           "#EF553B",
           "#00cc96",
           "#ab63fa",
           "#FFA15A",
           "#19d3f3",
           "#FF6692",
           "#B6E880",
           "#FF97FF",
           "#FECB52"
          ],
          "font": {
           "color": "#2a3f5f"
          },
          "geo": {
           "bgcolor": "white",
           "lakecolor": "white",
           "landcolor": "#E5ECF6",
           "showlakes": true,
           "showland": true,
           "subunitcolor": "white"
          },
          "hoverlabel": {
           "align": "left"
          },
          "hovermode": "closest",
          "mapbox": {
           "style": "light"
          },
          "paper_bgcolor": "white",
          "plot_bgcolor": "#E5ECF6",
          "polar": {
           "angularaxis": {
            "gridcolor": "white",
            "linecolor": "white",
            "ticks": ""
           },
           "bgcolor": "#E5ECF6",
           "radialaxis": {
            "gridcolor": "white",
            "linecolor": "white",
            "ticks": ""
           }
          },
          "scene": {
           "xaxis": {
            "backgroundcolor": "#E5ECF6",
            "gridcolor": "white",
            "gridwidth": 2,
            "linecolor": "white",
            "showbackground": true,
            "ticks": "",
            "zerolinecolor": "white"
           },
           "yaxis": {
            "backgroundcolor": "#E5ECF6",
            "gridcolor": "white",
            "gridwidth": 2,
            "linecolor": "white",
            "showbackground": true,
            "ticks": "",
            "zerolinecolor": "white"
           },
           "zaxis": {
            "backgroundcolor": "#E5ECF6",
            "gridcolor": "white",
            "gridwidth": 2,
            "linecolor": "white",
            "showbackground": true,
            "ticks": "",
            "zerolinecolor": "white"
           }
          },
          "shapedefaults": {
           "line": {
            "color": "#2a3f5f"
           }
          },
          "ternary": {
           "aaxis": {
            "gridcolor": "white",
            "linecolor": "white",
            "ticks": ""
           },
           "baxis": {
            "gridcolor": "white",
            "linecolor": "white",
            "ticks": ""
           },
           "bgcolor": "#E5ECF6",
           "caxis": {
            "gridcolor": "white",
            "linecolor": "white",
            "ticks": ""
           }
          },
          "title": {
           "x": 0.05
          },
          "xaxis": {
           "automargin": true,
           "gridcolor": "white",
           "linecolor": "white",
           "ticks": "",
           "title": {
            "standoff": 15
           },
           "zerolinecolor": "white",
           "zerolinewidth": 2
          },
          "yaxis": {
           "automargin": true,
           "gridcolor": "white",
           "linecolor": "white",
           "ticks": "",
           "title": {
            "standoff": 15
           },
           "zerolinecolor": "white",
           "zerolinewidth": 2
          }
         }
        },
        "title": {
         "text": "t-SNE of the embeddings of the descriptions"
        },
        "xaxis": {
         "anchor": "y",
         "domain": [
          0,
          1
         ],
         "title": {
          "text": "x"
         }
        },
        "yaxis": {
         "anchor": "x",
         "domain": [
          0,
          1
         ],
         "title": {
          "text": "y"
         }
        }
       }
      }
     },
     "metadata": {},
     "output_type": "display_data"
    },
    {
     "data": {
      "application/vnd.jupyter.widget-view+json": {
       "model_id": "7139f4045b9e4cce9e8529e1ceb23b68",
       "version_major": 2,
       "version_minor": 0
      },
      "text/plain": [
       "interactive(children=(Dropdown(description='Title:', options=('1000 Genomes Project', 'American Gut Project', …"
      ]
     },
     "metadata": {},
     "output_type": "display_data"
    }
   ],
   "source": [
    "import ipywidgets\n",
    "\n",
    "@ipywidgets.interact(title=ipywidgets.Dropdown(options=df['Title'], description='Title:'))\n",
    "def tsne_closest_titles(title, n_closest=10):\n",
    "    idx = df[df['Title'] == title].index[0]\n",
    "    x = X_embedded[idx]\n",
    "    distances = np.linalg.norm(X_embedded - x, axis=1)\n",
    "    closest = distances.argsort()[1:n_closest]\n",
    "\n",
    "    # plot the n_closest on t-SNE\n",
    "    fig = px.scatter(x=X_embedded[:,0], y=X_embedded[:,1], hover_name=df['Title'],\n",
    "                     color=np.where(np.any(np.arange(len(words)) == closest.reshape(-1, 1), axis=0), f'{n_closest} closest', 'others'))\n",
    "    fig.update_traces(textposition='top center')\n",
    "    fig.update_layout(title='t-SNE of the embeddings of the descriptions')\n",
    "    fig.show()\n",
    "\n",
    "    return df.iloc[closest]"
   ]
  },
  {
   "cell_type": "code",
   "execution_count": null,
   "metadata": {},
   "outputs": [],
   "source": []
  }
 ],
 "metadata": {
  "kernelspec": {
   "display_name": "venv",
   "language": "python",
   "name": "python3"
  },
  "language_info": {
   "codemirror_mode": {
    "name": "ipython",
    "version": 3
   },
   "file_extension": ".py",
   "mimetype": "text/x-python",
   "name": "python",
   "nbconvert_exporter": "python",
   "pygments_lexer": "ipython3",
   "version": "3.9.1"
  }
 },
 "nbformat": 4,
 "nbformat_minor": 2
}
